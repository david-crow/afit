{
 "cells": [
  {
   "cell_type": "code",
   "execution_count": 1,
   "metadata": {},
   "outputs": [],
   "source": [
    "import pandas as pd\n",
    "import time"
   ]
  },
  {
   "cell_type": "code",
   "execution_count": 2,
   "metadata": {
    "scrolled": false
   },
   "outputs": [
    {
     "name": "stderr",
     "output_type": "stream",
     "text": [
      "/Users/david/anaconda3/envs/tf/lib/python3.7/site-packages/IPython/core/interactiveshell.py:3058: DtypeWarning: Columns (2,3,4,5,6,7,8,9,10,11,12,13,14,15,16,17,18,19,20,21,22,23,24,25,26,27,28,29,30,31,32,33,34,35,36,37,38,39,40,41,42,43,44,45,46,47,48,49,50,51,52,53,54,55,56,57,58,59,60,61,62,63,64,65,66,67,68,69,70,71,72,73,74,75,76,77,78,79,80,81,82,83,84,85,86,87,88,89,90,91,92,93,94,95,96,97,98,99,100,101,102,103,104,105,106,107,108,109,110,111,112,113,114,115,116,117,118,119,120,121,122,123,124,125,126,127,128,129) have mixed types. Specify dtype option on import or set low_memory=False.\n",
      "  interactivity=interactivity, compiler=compiler, result=result)\n",
      "/Users/david/anaconda3/envs/tf/lib/python3.7/site-packages/IPython/core/interactiveshell.py:3058: DtypeWarning: Columns (3,7) have mixed types. Specify dtype option on import or set low_memory=False.\n",
      "  interactivity=interactivity, compiler=compiler, result=result)\n"
     ]
    },
    {
     "name": "stdout",
     "output_type": "stream",
     "text": [
      "Elapsed: 158.13 seconds\n"
     ]
    }
   ],
   "source": [
    "# read data into dataframes\n",
    "start_time = time.time()\n",
    "basic = pd.read_csv(\"/Users/david/Documents/masters/thesis/data/snapshots/unfiltered_snapshots.csv\")\n",
    "arbID = pd.read_csv(\"/Users/david/Documents/masters/thesis/data/snapshots/arbID_snapshots.csv\")\n",
    "random = pd.read_csv(\"/Users/david/Documents/masters/thesis/data/snapshots/random_snapshots.csv\")\n",
    "all_can = pd.read_csv(\"/Users/david/Documents/masters/thesis/data/can_data.csv\")\n",
    "print(\"Elapsed: {:.2f} seconds\".format(time.time() - start_time))"
   ]
  },
  {
   "cell_type": "code",
   "execution_count": 3,
   "metadata": {},
   "outputs": [
    {
     "name": "stdout",
     "output_type": "stream",
     "text": [
      "(28425, 1026)\n",
      "(32508, 130)\n",
      "(28425, 1026)\n",
      "(4161755, 9)\n"
     ]
    }
   ],
   "source": [
    "# select just stone's vehicles\n",
    "basic = basic[basic[\"Vehicle\"] > 100]\n",
    "arbID = arbID[arbID[\"Vehicle\"] > 100]\n",
    "random = random[random[\"Vehicle\"] > 100]\n",
    "all_can = all_can[all_can[\"Vehicle\"] > 100]\n",
    "\n",
    "# show the shape of each dataframe\n",
    "for df in [basic, arbID, random, all_can]:\n",
    "    print(df.shape)"
   ]
  },
  {
   "cell_type": "code",
   "execution_count": 4,
   "metadata": {},
   "outputs": [],
   "source": [
    "# relabel the vehicles\n",
    "basic[\"Vehicle\"] -= 101\n",
    "arbID[\"Vehicle\"] -= 101\n",
    "random[\"Vehicle\"] -= 101\n",
    "all_can[\"Vehicle\"] -= 101"
   ]
  },
  {
   "cell_type": "code",
   "execution_count": 5,
   "metadata": {},
   "outputs": [
    {
     "name": "stdout",
     "output_type": "stream",
     "text": [
      "1 & 4115 & 14.48 \\% \\\\\n",
      "2 & 1856 & 6.53 \\% \\\\\n",
      "3 & 1812 & 6.37 \\% \\\\\n",
      "4 & 2221 & 7.81 \\% \\\\\n",
      "5 & 3806 & 13.39 \\% \\\\\n",
      "6 & 1709 & 6.01 \\% \\\\\n",
      "7 & 2220 & 7.81 \\% \\\\\n",
      "8 & 3041 & 10.70 \\% \\\\\n",
      "9 & 2564 & 9.02 \\% \\\\\n",
      "10 & 2980 & 10.48 \\% \\\\\n",
      "11 & 2101 & 7.39 \\% \\\\\n",
      "\n",
      "1 & 4903 & 15.08 \\% \\\\\n",
      "2 & 2346 & 7.22 \\% \\\\\n",
      "3 & 1936 & 5.96 \\% \\\\\n",
      "4 & 2221 & 6.83 \\% \\\\\n",
      "5 & 3806 & 11.71 \\% \\\\\n",
      "6 & 1947 & 5.99 \\% \\\\\n",
      "7 & 2735 & 8.41 \\% \\\\\n",
      "8 & 3416 & 10.51 \\% \\\\\n",
      "9 & 2874 & 8.84 \\% \\\\\n",
      "10 & 3799 & 11.69 \\% \\\\\n",
      "11 & 2525 & 7.77 \\% \\\\\n",
      "\n",
      "1 & 4115 & 14.48 \\% \\\\\n",
      "2 & 1856 & 6.53 \\% \\\\\n",
      "3 & 1812 & 6.37 \\% \\\\\n",
      "4 & 2221 & 7.81 \\% \\\\\n",
      "5 & 3806 & 13.39 \\% \\\\\n",
      "6 & 1709 & 6.01 \\% \\\\\n",
      "7 & 2220 & 7.81 \\% \\\\\n",
      "8 & 3041 & 10.70 \\% \\\\\n",
      "9 & 2564 & 9.02 \\% \\\\\n",
      "10 & 2980 & 10.48 \\% \\\\\n",
      "11 & 2101 & 7.39 \\% \\\\\n",
      "\n"
     ]
    }
   ],
   "source": [
    "for df in [basic, arbID, random]:\n",
    "    total_samples = len(df)\n",
    "\n",
    "    for v in df[\"Vehicle\"].unique():\n",
    "        samples = len(df[df[\"Vehicle\"] == v]) \n",
    "        print(\"{} & {} & {:.2f} \\\\% \\\\\\\\\".format(v + 1, samples , 100 * samples / total_samples))\n",
    "    \n",
    "    print()"
   ]
  },
  {
   "cell_type": "code",
   "execution_count": null,
   "metadata": {},
   "outputs": [],
   "source": []
  }
 ],
 "metadata": {
  "kernelspec": {
   "display_name": "Python [conda env:tf] *",
   "language": "python",
   "name": "conda-env-tf-py"
  },
  "language_info": {
   "codemirror_mode": {
    "name": "ipython",
    "version": 3
   },
   "file_extension": ".py",
   "mimetype": "text/x-python",
   "name": "python",
   "nbconvert_exporter": "python",
   "pygments_lexer": "ipython3",
   "version": "3.7.4"
  }
 },
 "nbformat": 4,
 "nbformat_minor": 2
}
