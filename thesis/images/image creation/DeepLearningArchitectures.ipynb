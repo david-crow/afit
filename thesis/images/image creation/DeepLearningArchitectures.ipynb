{
 "cells": [
  {
   "cell_type": "code",
   "execution_count": 1,
   "metadata": {},
   "outputs": [
    {
     "name": "stderr",
     "output_type": "stream",
     "text": [
      "Using TensorFlow backend.\n"
     ]
    }
   ],
   "source": [
    "from IPython.display import display, Image\n",
    "\n",
    "from keras import initializers, optimizers\n",
    "from keras.callbacks import EarlyStopping\n",
    "from keras.layers import BatchNormalization, Conv1D, Dense, Dropout, Flatten, MaxPooling1D, CuDNNLSTM\n",
    "from keras.models import Sequential, load_model, model_from_json\n",
    "from keras.utils import plot_model, to_categorical\n",
    "\n",
    "import matplotlib.pyplot as plt\n",
    "import tensorflow as tf\n",
    "import pandas as pd\n",
    "import numpy as np\n",
    "\n",
    "import itertools\n",
    "import keras\n",
    "import time\n",
    "import os\n",
    "\n",
    "directory = \"/Users/david/Desktop/\"\n",
    "filetype = \".svg\""
   ]
  },
  {
   "cell_type": "code",
   "execution_count": 2,
   "metadata": {},
   "outputs": [],
   "source": [
    "def build_cnn(num_filters, kernel_size, pool_size, filename):\n",
    "    model = Sequential()\n",
    "    model.add(Conv1D(num_filters, kernel_size=kernel_size, activation=\"relu\", input_shape=(128,1)))\n",
    "    model.add(Conv1D(num_filters, kernel_size=kernel_size, activation=\"relu\"))\n",
    "    model.add(BatchNormalization())\n",
    "    model.add(MaxPooling1D(pool_size=pool_size))\n",
    "    model.add(Dropout(0.2))\n",
    "    model.add(Flatten())\n",
    "    model.add(Dense(100, activation=\"relu\", name=\"elephant\"))\n",
    "    model.add(Dense(11, activation=\"softmax\"))\n",
    "    model.compile(loss=\"categorical_crossentropy\", optimizer=\"Adam\", metrics=[\"accuracy\"])\n",
    "\n",
    "    filename = os.path.join(directory, filename + filetype)\n",
    "    plot_model(model, show_shapes=True, show_layer_names=False, to_file=filename)\n",
    "    \n",
    "def build_mlp(hidden_layers, hidden_layer_width, activation, learning_rate, filename):\n",
    "    model = Sequential()\n",
    "    \n",
    "    # build the first hidden layer\n",
    "    model.add(Dense(\n",
    "        units = hidden_layer_width,\n",
    "        input_dim = 128,\n",
    "        activation = activation,\n",
    "        use_bias = True,\n",
    "        bias_initializer = initializers.Constant(0.1) if activation == \"relu\" else \"zeros\"))\n",
    "    \n",
    "    # build the remaining hidden layers\n",
    "    for i in range(hidden_layers - 1):\n",
    "        model.add(Dense(\n",
    "            units = hidden_layer_width, \n",
    "            activation = activation, \n",
    "            use_bias = True, \n",
    "            bias_initializer = initializers.Constant(0.1) if activation == \"relu\" else \"zeros\"))\n",
    "    \n",
    "    # add some regularization\n",
    "    model.add(Dropout(0.2))\n",
    "    \n",
    "    # build the output layer\n",
    "    model.add(Dense(\n",
    "        units = 11, \n",
    "        activation = \"softmax\", \n",
    "        use_bias = True, \n",
    "        bias_initializer = \"zeros\"))\n",
    "    \n",
    "    # compile the model\n",
    "    model.compile(\n",
    "        optimizer = optimizers.Adam(lr=learning_rate),\n",
    "        loss = \"categorical_crossentropy\",\n",
    "        metrics = [\"accuracy\"])\n",
    "\n",
    "    # display and return the model\n",
    "    filename = os.path.join(directory, filename + filetype)\n",
    "    plot_model(model, show_shapes=True, show_layer_names=False, to_file=filename)"
   ]
  },
  {
   "cell_type": "code",
   "execution_count": 3,
   "metadata": {},
   "outputs": [
    {
     "name": "stdout",
     "output_type": "stream",
     "text": [
      "WARNING:tensorflow:From /Users/david/anaconda3/envs/tf/lib/python3.7/site-packages/tensorflow/python/framework/op_def_library.py:263: colocate_with (from tensorflow.python.framework.ops) is deprecated and will be removed in a future version.\n",
      "Instructions for updating:\n",
      "Colocations handled automatically by placer.\n",
      "WARNING:tensorflow:From /Users/david/anaconda3/envs/tf/lib/python3.7/site-packages/keras/backend/tensorflow_backend.py:3445: calling dropout (from tensorflow.python.ops.nn_ops) with keep_prob is deprecated and will be removed in a future version.\n",
      "Instructions for updating:\n",
      "Please use `rate` instead of `keep_prob`. Rate should be set to `rate = 1 - keep_prob`.\n"
     ]
    }
   ],
   "source": [
    "build_cnn(32, 2, 4, \"DeepLearningArchitecturesArbIDCNN\")\n",
    "build_mlp(3, 512, \"relu\", 0.01, \"DeepLearningArchitecturesArbIDMLP\")\n",
    "build_cnn(32, 4, 4, \"DeepLearningArchitecturesBasicCNN\")\n",
    "build_mlp(1, 512, \"relu\", 0.001, \"DeepLearningArchitecturesBasicMLP\")\n",
    "build_cnn(32, 2, 3, \"DeepLearningArchitecturesRandomCNN\")\n",
    "build_mlp(3, 256, \"relu\", 0.01, \"DeepLearningArchitecturesRandomMLP\")"
   ]
  },
  {
   "cell_type": "code",
   "execution_count": null,
   "metadata": {},
   "outputs": [],
   "source": []
  }
 ],
 "metadata": {
  "kernelspec": {
   "display_name": "Python [conda env:tf] *",
   "language": "python",
   "name": "conda-env-tf-py"
  },
  "language_info": {
   "codemirror_mode": {
    "name": "ipython",
    "version": 3
   },
   "file_extension": ".py",
   "mimetype": "text/x-python",
   "name": "python",
   "nbconvert_exporter": "python",
   "pygments_lexer": "ipython3",
   "version": "3.7.4"
  }
 },
 "nbformat": 4,
 "nbformat_minor": 2
}
