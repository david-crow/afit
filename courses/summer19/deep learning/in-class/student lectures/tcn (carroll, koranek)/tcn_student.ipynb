{
 "cells": [
  {
   "cell_type": "code",
   "execution_count": 1,
   "metadata": {},
   "outputs": [
    {
     "name": "stderr",
     "output_type": "stream",
     "text": [
      "Using TensorFlow backend.\n"
     ]
    }
   ],
   "source": [
    "import tensorflow as tf\n",
    "import keras\n",
    "from keras.models import Sequential\n",
    "from keras.layers import Dense, Activation\n",
    "from keras import optimizers\n",
    "from keras import callbacks\n",
    "from keras.wrappers.scikit_learn import KerasRegressor\n",
    "from keras import backend as K\n",
    "\n",
    "import numpy as np\n",
    "import matplotlib.pyplot as plt\n",
    "\n",
    "import pdb"
   ]
  },
  {
   "cell_type": "code",
   "execution_count": 2,
   "metadata": {},
   "outputs": [],
   "source": [
    "from tensorflow.compat.v1 import ConfigProto\n",
    "from tensorflow.compat.v1 import InteractiveSession\n",
    "\n",
    "config = ConfigProto()\n",
    "config.gpu_options.allow_growth = True\n",
    "session = InteractiveSession(config=config)"
   ]
  },
  {
   "cell_type": "markdown",
   "metadata": {},
   "source": [
    "### Temporal Convolution Network (TCN) Exercise\n",
    "\n",
    "The goal of this exercise is to implement the TCN block shown below. \n",
    "\n",
    "<img src=\"tcn_block.png\">\n",
    "\n",
    "Below is a function called createTCNBlock() which takes in a few parameters necessary to implement the TCN block.  Your task is to fill out the function and return the output of the final keras layer.\n",
    "\n",
    "The following code repos were used to assist in the making of the TCN architecture in this demo:\n",
    "\n",
    "https://github.com/philipperemy/keras-tcn/\n",
    "\n",
    "https://github.com/Baichenjia/Tensorflow-TCN/\n",
    "\n",
    "https://github.com/locuslab/TCN/\n"
   ]
  },
  {
   "cell_type": "code",
   "execution_count": 3,
   "metadata": {},
   "outputs": [],
   "source": [
    "def createTCNBlock(input_data, dilation_factor=1, num_filters=1, padding='causal', \n",
    "                   kernel_size=3, dropout_rate=0.2, activation='relu'):\n",
    "    '''Create a residual block for use in different temporal convolutional network (TCN) architectures.\n",
    "    \n",
    "    Args:\n",
    "        input_data: a keras model Input block to shape the first Conv1D layer.\n",
    "        dilation_factor: dilation factor of the convolutions.\n",
    "        num_filters: the number of convolutional filters.\n",
    "        padding: padding strategy for the convolutions (see keras Conv1D documentation).\n",
    "        kernel_size: integer size of the convolution window.\n",
    "        dropout_rate: percentage of connections to drop (between 0 and 1).\n",
    "        activation: activation function (default is 'relu')\n",
    "    Returns:\n",
    "        the result from the addition of the convolutions and residual connection.\n",
    "    \n",
    "    '''\n",
    "    \n",
    "    # Make a copy of the input data for use in the residual skip connection\n",
    "    in_data = input_data\n",
    "    \n",
    "    # Create the first temporal layer\n",
    "    \n",
    "    # Using the diagram above create the dilated causal 1D convolution layer followed by\n",
    "    # batch norm, then the activation function, and lastly dropout (hint: use spatial dropout)\n",
    "    # For each keras layer use the form:\n",
    "    #                        layer_output = layer_name(input_params)(prev_layer_output)\n",
    "    # This form will make it easier to implement the skip connection at the end\n",
    "    \n",
    "    ############################## STUDENT CODE ON THE NEXT 4 LINES ##############################\n",
    "    conv_out = None # add convolution here\n",
    "    bn_out = None # add batch norm here\n",
    "    activation_out = None # add activation function here\n",
    "    dropout_out = None # add dropout here\n",
    "    \n",
    "    \n",
    "    # Create the second temporal layer\n",
    "    \n",
    "    # Replicate the code from above to create a second group of keras layers (refer to diagram above)\n",
    "\n",
    "    ############################## STUDENT CODE ON THE NEXT 4 LINES ##############################\n",
    "    conv_out = None # add convolution here\n",
    "    bn_out = None # add batch norm here\n",
    "    activation_out = None # add activation function here\n",
    "    dropout_out = None # add dropout here\n",
    "    \n",
    "    \n",
    "    # Create the final layer which is really the residual 1x1 conv plus add step\n",
    "    # Only do the 1x1 conv if the dimensions dont match\n",
    "    if(in_data.shape[-1] != dropout_out.shape[-1]):    \n",
    "        in_data = keras.layers.Conv1D(filters=num_filters, kernel_size=1, padding='same')(in_data)\n",
    "        \n",
    "    # The last step is to add the skip connection portion of the diagram\n",
    "    # HINT: use keras.layers.add and an activation function\n",
    "\n",
    "    ############################## STUDENT CODE ON THE NEXT 2 LINES ##############################\n",
    "    residual_out = None # add in_data to the output of the dropout_layer above (dropout_out)\n",
    "    activation_out = None # add activation function here\n",
    "    \n",
    "    # Return the output of the activation function\n",
    "    return activation_out\n"
   ]
  },
  {
   "cell_type": "markdown",
   "metadata": {},
   "source": [
    "### createTCNModel()\n",
    "\n",
    "This function simply creates a stack of multiple TCN blocks. The number of blocks is determined by the array length of dilation_factors passed into the function. The output of this function is the result at the current time (after running this through a lambda function to retrieve the current time)."
   ]
  },
  {
   "cell_type": "code",
   "execution_count": 4,
   "metadata": {},
   "outputs": [],
   "source": [
    "def createTCNModel(input_data, dilation_factors=[1], num_filters=1, padding='casual', \n",
    "                   kernel_size=3, dropout_rate=0.2, activation='relu'):\n",
    "    '''Create a stack of one or multiple TCN blocks.\n",
    "    \n",
    "    Args:\n",
    "        input_data: a keras model Input block to shape the first Conv1D layer.\n",
    "        dilation_factors: an array dilation factors for the convolutions.\n",
    "        num_filters: the number of convolutional filters.\n",
    "        padding: padding strategy for the convolutions (see keras Conv1D documentation).\n",
    "        kernel_size: integer size of the convolution window.\n",
    "        dropout_rate: percentage of connections to drop (between 0 and 1).\n",
    "        activation: activation function (default is 'relu')\n",
    "    Returns:\n",
    "        the output of the final TCN block\n",
    "        \n",
    "    '''\n",
    "    \n",
    "    # Setup a variable to use for capturing TCN block output and feeding \n",
    "    # that back into the next block\n",
    "    output_data = input_data\n",
    "    \n",
    "    # For saving the outputs of each TCN block\n",
    "    saved_output = []\n",
    "    \n",
    "    # Create the stack of TCN block based on the number of dilation factors passed in\n",
    "    for ii in dilation_factors:\n",
    "        output_data = createTCNBlock(output_data, ii, num_filters, padding,\n",
    "                                     kernel_size, dropout_rate, activation)\n",
    "        \n",
    "        # Save the output of the current block\n",
    "        saved_output.append(output_data)\n",
    "        \n",
    "    # Add all saved outputs\n",
    "    output_data = keras.layers.add(saved_output)\n",
    "        \n",
    "    # This essentially grabs the current time output from the final output layer \n",
    "    output_data = keras.layers.Lambda(lambda output: output[:, -1, :])(output_data)    \n",
    "    \n",
    "    return output_data\n"
   ]
  },
  {
   "cell_type": "markdown",
   "metadata": {},
   "source": [
    "### createExampleSignalData()\n",
    "\n",
    "This function just creates a simple set of training data to test the TCN. The data being generated is similar to the sequential MNIST dataset where the network is given a long sequence and has to identify which class that sequence belongs to. This illustrates the ability of the network to have memory because it has to remember past input (in the TCN case though the size of the receptive field is just increased to look at all time series data at once).\n",
    "\n",
    "While similar to the sequential MNIST dataset, this function is sort of simulating data that would be necessary to do GPS signal processing.  Each of the code sequences below (hand crafted, might be some cross-correlation between them but this toy example seems to work) represents a unique satellite. The network is trained to learn what all the \"satellites\" look like and given a sequence during the prediction step will tell the user which satellite that sequence belongs to. Noise can also be added to the codes. This seems to work (although a noise standard deviation too large will results in mis-classifications) fairly well up to values of 1-2."
   ]
  },
  {
   "cell_type": "code",
   "execution_count": 5,
   "metadata": {},
   "outputs": [],
   "source": [
    "def createExampleSignalData():\n",
    "    # Create a toy signal example\n",
    "    # The goal here is to train the network to remember what the different\n",
    "    # sequences look like.\n",
    "\n",
    "    # Create \"pseudorandom\" codes for classification (24 samples long)\n",
    "    code1 = [1,1,1,1,-1,-1,-1,-1,1,1,1,1,-1,-1,-1,-1,-1,-1,-1,-1,1,1,1,1]\n",
    "    code2 = [-1,-1,-1,-1,1,1,1,1,1,1,1,1,-1,-1,-1,-1,1,1,1,1,1,1,1,1]\n",
    "    code3 = [-1,-1,-1,-1,1,1,1,1,-1,-1,-1,-1,1,1,1,1,1,1,1,1,1,1,1,1]\n",
    "    code4 = [1,1,1,1,1,1,1,1,1,1,1,1,-1,-1,-1,-1,-1,-1,-1,-1,-1,-1,-1,-1]\n",
    "    code5 = [-1,-1,-1,-1,1,1,1,1,-1,-1,-1,-1,1,1,1,1,-1,-1,-1,-1,1,1,1,1]\n",
    "\n",
    "    # Add some noise to the codes if you want...\n",
    "    noise_stddev = 0\n",
    "\n",
    "    # Combine code and noise for each signal\n",
    "    signal1 = code1 + np.random.normal(0, noise_stddev, len(code1))\n",
    "    signal2 = code2 + np.random.normal(0, noise_stddev, len(code1))\n",
    "    signal3 = code3 + np.random.normal(0, noise_stddev, len(code1))\n",
    "    signal4 = code4 + np.random.normal(0, noise_stddev, len(code1))\n",
    "    signal5 = code5 + np.random.normal(0, noise_stddev, len(code1))\n",
    "\n",
    "    # Create the x training and y training data\n",
    "    x_train = np.expand_dims(np.array([signal1, signal2, signal3, signal4, signal5]), axis=2)\n",
    "    y_train = keras.utils.to_categorical(np.array([[0],[1],[2],[3],[4]]))\n",
    "    \n",
    "    return x_train, y_train\n"
   ]
  },
  {
   "cell_type": "markdown",
   "metadata": {},
   "source": [
    "### Create the model\n",
    "\n",
    "This step initializes some of the TCN parameters, generates the training data, and creates the model. A diagram of the created model is also generated and saved to a file called \"tcn_model.png\"."
   ]
  },
  {
   "cell_type": "code",
   "execution_count": 6,
   "metadata": {
    "scrolled": true
   },
   "outputs": [
    {
     "name": "stdout",
     "output_type": "stream",
     "text": [
      "WARNING:tensorflow:From C:\\Users\\mark\\Anaconda3\\envs\\python3\\lib\\site-packages\\tensorflow\\python\\framework\\op_def_library.py:263: colocate_with (from tensorflow.python.framework.ops) is deprecated and will be removed in a future version.\n",
      "Instructions for updating:\n",
      "Colocations handled automatically by placer.\n",
      "WARNING:tensorflow:From C:\\Users\\mark\\Anaconda3\\envs\\python3\\lib\\site-packages\\keras\\backend\\tensorflow_backend.py:3445: calling dropout (from tensorflow.python.ops.nn_ops) with keep_prob is deprecated and will be removed in a future version.\n",
      "Instructions for updating:\n",
      "Please use `rate` instead of `keep_prob`. Rate should be set to `rate = 1 - keep_prob`.\n"
     ]
    }
   ],
   "source": [
    "# Define some of the necessary input variables for createTCNModel()\n",
    "dilation_factors = [1, 2, 4, 8, 16]\n",
    "num_filters = 64\n",
    "kernel_size = 6\n",
    "dropout_rate = 0.2\n",
    "activation = 'relu'\n",
    "padding = 'causal'\n",
    "\n",
    "\n",
    "# Simulate some data for classification\n",
    "x_train, y_train = createExampleSignalData()\n",
    "\n",
    "\n",
    "# Make a dummy input field to use for the TCN model\n",
    "max_length = len(x_train[0])\n",
    "num_features = 1\n",
    "\n",
    "\n",
    "# Input layer should be of size (batch_size, timesteps, input_dim)\n",
    "input_layer = keras.models.Input(shape=(max_length, num_features)) \n",
    "\n",
    "\n",
    "# Build the full temporal convolutional network (TCN) model\n",
    "output = createTCNModel(input_layer, dilation_factors, num_filters, padding, \n",
    "                        kernel_size, dropout_rate, activation, )\n",
    "\n",
    "\n",
    "# Add a dense layer for classification\n",
    "model_output = Dense(len(y_train), activation='softmax')(output)\n",
    "\n",
    "\n",
    "# Initialize and compile the TCN model\n",
    "model = keras.models.Model(input_layer, model_output)\n",
    "model.compile(keras.optimizers.Adam(lr=0.001), loss='categorical_crossentropy', metrics=['accuracy'])\n",
    "\n",
    "\n",
    "# Print out the modeif you want\n",
    "#print(model.summary())\n",
    "\n",
    "\n",
    "# Save the model to a file for viewing\n",
    "keras.utils.vis_utils.plot_model(model, to_file='tcn_model.png', show_shapes=True)\n"
   ]
  },
  {
   "cell_type": "markdown",
   "metadata": {},
   "source": [
    "### Plot the training data\n",
    "\n",
    "This step plots the signals which are used to train the model. If the signals are generated with 0 noise the plots should be all 1s and -1s. If the noise is increased to ~1 or so it becomes more difficult for humans to identify which signal the curves belong to."
   ]
  },
  {
   "cell_type": "code",
   "execution_count": 7,
   "metadata": {
    "scrolled": false
   },
   "outputs": [
    {
     "data": {
      "image/png": "[encoded data removed]",
      "text/plain": [
       "<Figure size 360x360 with 1 Axes>"
      ]
     },
     "metadata": {
      "needs_background": "light"
     },
     "output_type": "display_data"
    },
    {
     "data": {
      "image/png": "[encoded data removed]",
      "text/plain": [
       "<Figure size 360x360 with 1 Axes>"
      ]
     },
     "metadata": {
      "needs_background": "light"
     },
     "output_type": "display_data"
    },
    {
     "data": {
      "image/png": "[encoded data removed]",
      "text/plain": [
       "<Figure size 360x360 with 1 Axes>"
      ]
     },
     "metadata": {
      "needs_background": "light"
     },
     "output_type": "display_data"
    },
    {
     "data": {
      "image/png": "[encoded data removed]",
      "text/plain": [
       "<Figure size 360x360 with 1 Axes>"
      ]
     },
     "metadata": {
      "needs_background": "light"
     },
     "output_type": "display_data"
    },
    {
     "data": {
      "image/png": "[encoded data removed]",
      "text/plain": [
       "<Figure size 360x360 with 1 Axes>"
      ]
     },
     "metadata": {
      "needs_background": "light"
     },
     "output_type": "display_data"
    }
   ],
   "source": [
    "# Plot the signals that will be used for training\n",
    "for ii in range(len(x_train)):\n",
    "    plt.figure(figsize=(5,5))\n",
    "    plt.grid()\n",
    "    plt.plot(x_train[ii])\n",
    "    plt.xlabel('Samples')\n",
    "    plt.ylabel('Amplitude')\n",
    "    plt.title('Signal ' + str(np.argmax(y_train[ii])))\n"
   ]
  },
  {
   "cell_type": "markdown",
   "metadata": {},
   "source": [
    "### Train the model\n",
    "\n",
    "Train the model on the training data. Nothing special going on here, 50 epochs seems to work well and verbosity is set to maximum."
   ]
  },
  {
   "cell_type": "code",
   "execution_count": 8,
   "metadata": {
    "scrolled": false
   },
   "outputs": [
    {
     "name": "stdout",
     "output_type": "stream",
     "text": [
      "WARNING:tensorflow:From C:\\Users\\mark\\Anaconda3\\envs\\python3\\lib\\site-packages\\tensorflow\\python\\ops\\math_ops.py:3066: to_int32 (from tensorflow.python.ops.math_ops) is deprecated and will be removed in a future version.\n",
      "Instructions for updating:\n",
      "Use tf.cast instead.\n",
      "Epoch 1/50\n",
      " - 2s - loss: 14.5612 - acc: 0.0000e+00\n",
      "Epoch 2/50\n",
      " - 0s - loss: 8.9467 - acc: 0.2000\n",
      "Epoch 3/50\n",
      " - 0s - loss: 6.3178 - acc: 0.6000\n",
      "Epoch 4/50\n",
      " - 0s - loss: 4.4265 - acc: 0.6000\n",
      "Epoch 5/50\n",
      " - 0s - loss: 3.2250 - acc: 0.8000\n",
      "Epoch 6/50\n",
      " - 0s - loss: 3.6105 - acc: 0.6000\n",
      "Epoch 7/50\n",
      " - 0s - loss: 3.3163 - acc: 0.8000\n",
      "Epoch 8/50\n",
      " - 0s - loss: 4.7725 - acc: 0.6000\n",
      "Epoch 9/50\n",
      " - 0s - loss: 5.3948 - acc: 0.6000\n",
      "Epoch 10/50\n",
      " - 0s - loss: 2.9438 - acc: 0.8000\n",
      "Epoch 11/50\n",
      " - 0s - loss: 5.7835e-04 - acc: 1.0000\n",
      "Epoch 12/50\n",
      " - 0s - loss: 3.0493 - acc: 0.8000\n",
      "Epoch 13/50\n",
      " - 0s - loss: 1.2644 - acc: 0.8000\n",
      "Epoch 14/50\n",
      " - 0s - loss: 2.6864 - acc: 0.6000\n",
      "Epoch 15/50\n",
      " - 0s - loss: 2.7230 - acc: 0.4000\n",
      "Epoch 16/50\n",
      " - 0s - loss: 0.5893 - acc: 0.8000\n",
      "Epoch 17/50\n",
      " - 0s - loss: 0.9450 - acc: 0.8000\n",
      "Epoch 18/50\n",
      " - 0s - loss: 0.0639 - acc: 1.0000\n",
      "Epoch 19/50\n",
      " - 0s - loss: 1.6654e-05 - acc: 1.0000\n",
      "Epoch 20/50\n",
      " - 0s - loss: 5.1136e-04 - acc: 1.0000\n",
      "Epoch 21/50\n",
      " - 0s - loss: 0.0178 - acc: 1.0000\n",
      "Epoch 22/50\n",
      " - 0s - loss: 0.1079 - acc: 1.0000\n",
      "Epoch 23/50\n",
      " - 0s - loss: 0.0014 - acc: 1.0000\n",
      "Epoch 24/50\n",
      " - 0s - loss: 0.8139 - acc: 0.8000\n",
      "Epoch 25/50\n",
      " - 0s - loss: 6.2223e-04 - acc: 1.0000\n",
      "Epoch 26/50\n",
      " - 0s - loss: 1.9073e-07 - acc: 1.0000\n",
      "Epoch 27/50\n",
      " - 0s - loss: 2.8610 - acc: 0.8000\n",
      "Epoch 28/50\n",
      " - 0s - loss: 1.1814e-05 - acc: 1.0000\n",
      "Epoch 29/50\n",
      " - 0s - loss: 1.5497e-07 - acc: 1.0000\n",
      "Epoch 30/50\n",
      " - 0s - loss: 1.1921e-07 - acc: 1.0000\n",
      "Epoch 31/50\n",
      " - 0s - loss: 0.0014 - acc: 1.0000\n",
      "Epoch 32/50\n",
      " - 0s - loss: 2.7134e-05 - acc: 1.0000\n",
      "Epoch 33/50\n",
      " - 0s - loss: 7.3553e-06 - acc: 1.0000\n",
      "Epoch 34/50\n",
      " - 0s - loss: 7.4626e-06 - acc: 1.0000\n",
      "Epoch 35/50\n",
      " - 0s - loss: 1.6689e-07 - acc: 1.0000\n",
      "Epoch 36/50\n",
      " - 0s - loss: 2.4888e-04 - acc: 1.0000\n",
      "Epoch 37/50\n",
      " - 0s - loss: 2.2436e-05 - acc: 1.0000\n",
      "Epoch 38/50\n",
      " - 0s - loss: 2.9351e-05 - acc: 1.0000\n",
      "Epoch 39/50\n",
      " - 0s - loss: 1.1921e-07 - acc: 1.0000\n",
      "Epoch 40/50\n",
      " - 0s - loss: 2.1518e-05 - acc: 1.0000\n",
      "Epoch 41/50\n",
      " - 0s - loss: 1.1921e-07 - acc: 1.0000\n",
      "Epoch 42/50\n",
      " - 0s - loss: 3.1055e-05 - acc: 1.0000\n",
      "Epoch 43/50\n",
      " - 0s - loss: 2.3842e-07 - acc: 1.0000\n",
      "Epoch 44/50\n",
      " - 0s - loss: 2.7895e-06 - acc: 1.0000\n",
      "Epoch 45/50\n",
      " - 0s - loss: 3.0520e-05 - acc: 1.0000\n",
      "Epoch 46/50\n",
      " - 0s - loss: 1.1921e-07 - acc: 1.0000\n",
      "Epoch 47/50\n",
      " - 0s - loss: 1.1921e-07 - acc: 1.0000\n",
      "Epoch 48/50\n",
      " - 0s - loss: 0.4866 - acc: 0.8000\n",
      "Epoch 49/50\n",
      " - 0s - loss: 2.5645 - acc: 0.8000\n",
      "Epoch 50/50\n",
      " - 0s - loss: 2.2171 - acc: 0.8000\n"
     ]
    },
    {
     "data": {
      "text/plain": [
       "<keras.callbacks.History at 0x222daeefb38>"
      ]
     },
     "execution_count": 8,
     "metadata": {},
     "output_type": "execute_result"
    }
   ],
   "source": [
    "# Fit the model to the training data\n",
    "model.fit(x_train, y_train, epochs=50, verbose=2)"
   ]
  },
  {
   "cell_type": "markdown",
   "metadata": {},
   "source": [
    "### Classify a specific code sequence\n",
    "\n",
    "Again, nothing special going on here. Given a code number (from 0 through 4 unless more codes are added to the generate data function) the model will spit out probabilities for which class the input belongs to. In this toy example the classification accuracy isn't perfect and mis-classifications do happen (especially with noise on the signals) but in general 80-90% accuracy is observed even with noise standard deviation up to 1."
   ]
  },
  {
   "cell_type": "code",
   "execution_count": 15,
   "metadata": {
    "scrolled": false
   },
   "outputs": [
    {
     "name": "stdout",
     "output_type": "stream",
     "text": [
      "[[3.9932792e-23 1.2075715e-20 1.3847489e-09 7.4383289e-13 1.0000000e+00]]\n"
     ]
    }
   ],
   "source": [
    "# Pick which code to predict the classification for (0 indexed, [0, 4])\n",
    "code_num = 4\n",
    "\n",
    "# Pick which signal you want to classify\n",
    "signal_to_classify = x_train[code_num]\n",
    "x_values_to_classify = np.expand_dims(np.array(signal_to_classify.T), axis=2)\n",
    "\n",
    "# Determine probabilitys that given signal belongs to each class\n",
    "predicted_y = model.predict(x_values_to_classify, verbose=2)\n",
    "\n",
    "# Print out the array of probabilities\n",
    "print(predicted_y)\n"
   ]
  }
 ],
 "metadata": {
  "kernelspec": {
   "display_name": "Python 3",
   "language": "python",
   "name": "python3"
  },
  "language_info": {
   "codemirror_mode": {
    "name": "ipython",
    "version": 3
   },
   "file_extension": ".py",
   "mimetype": "text/x-python",
   "name": "python",
   "nbconvert_exporter": "python",
   "pygments_lexer": "ipython3",
   "version": "3.6.8"
  }
 },
 "nbformat": 4,
 "nbformat_minor": 2
}
