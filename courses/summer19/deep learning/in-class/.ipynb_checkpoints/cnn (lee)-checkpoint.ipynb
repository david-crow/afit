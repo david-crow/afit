{
 "cells": [
  {
   "cell_type": "markdown",
   "metadata": {},
   "source": [
    "# CNN Coding Exercise: CNN for MNIST Dataset\n",
    "## 29 July 2019\n",
    "\n",
    "CNN with basic dataset\n"
   ]
  },
  {
   "cell_type": "code",
   "execution_count": 1,
   "metadata": {},
   "outputs": [
    {
     "name": "stderr",
     "output_type": "stream",
     "text": [
      "Using TensorFlow backend.\n"
     ]
    }
   ],
   "source": [
    "import numpy as np\n",
    "from keras.layers import Dense, Conv2D, Flatten, MaxPooling2D, AveragePooling2D, BatchNormalization, Input, Dropout\n",
    "from keras.layers.advanced_activations import LeakyReLU\n",
    "from keras import optimizers\n",
    "from keras.layers.merge import concatenate\n",
    "from keras.models import Model\n",
    "from keras.callbacks import EarlyStopping\n",
    "from keras import backend as K\n",
    "import tensorflow as tf\n",
    "import keras\n",
    "\n",
    "import matplotlib.pyplot as plt\n",
    "\n",
    "from tensorflow.keras.datasets import mnist"
   ]
  },
  {
   "cell_type": "code",
   "execution_count": 2,
   "metadata": {},
   "outputs": [
    {
     "name": "stdout",
     "output_type": "stream",
     "text": [
      "Downloading data from https://storage.googleapis.com/tensorflow/tf-keras-datasets/mnist.npz\n",
      "11493376/11490434 [==============================] - 12s 1us/step\n",
      "Shape of X: (60000, 28, 28, 1)\n",
      "Shape of y: (60000,)\n"
     ]
    }
   ],
   "source": [
    "# Load MNIST data\n",
    "(x_train, y_train), (x_test, y_test) = mnist.load_data()\n",
    "x_train.resize(60000, 28, 28, 1)\n",
    "x_test.resize(10000, 28, 28, 1)\n",
    "y_train_onehot = []\n",
    "for y in y_train:\n",
    "    onehot = []\n",
    "    for i in range(10):\n",
    "        if y == i:\n",
    "            onehot.append(1)\n",
    "        else:\n",
    "            onehot.append(0)\n",
    "    y_train_onehot.append(onehot)\n",
    "y_train_onehot = np.array(y_train_onehot)\n",
    "print(\"Shape of X:\", x_train.shape)\n",
    "print(\"Shape of y:\", y_train.shape)"
   ]
  },
  {
   "cell_type": "code",
   "execution_count": 4,
   "metadata": {},
   "outputs": [
    {
     "name": "stdout",
     "output_type": "stream",
     "text": [
      "WARNING:tensorflow:From /Users/david/anaconda3/envs/tf/lib/python3.7/site-packages/tensorflow/python/framework/op_def_library.py:263: colocate_with (from tensorflow.python.framework.ops) is deprecated and will be removed in a future version.\n",
      "Instructions for updating:\n",
      "Colocations handled automatically by placer.\n",
      "WARNING:tensorflow:From /Users/david/anaconda3/envs/tf/lib/python3.7/site-packages/keras/backend/tensorflow_backend.py:3445: calling dropout (from tensorflow.python.ops.nn_ops) with keep_prob is deprecated and will be removed in a future version.\n",
      "Instructions for updating:\n",
      "Please use `rate` instead of `keep_prob`. Rate should be set to `rate = 1 - keep_prob`.\n",
      "__________________________________________________________________________________________________\n",
      "Layer (type)                    Output Shape         Param #     Connected to                     \n",
      "==================================================================================================\n",
      "input_1 (InputLayer)            (None, 28, 28, 1)    0                                            \n",
      "__________________________________________________________________________________________________\n",
      "conv_1 (Conv2D)                 (None, 28, 28, 16)   784         input_1[0][0]                    \n",
      "__________________________________________________________________________________________________\n",
      "conv_2 (Conv2D)                 (None, 28, 28, 32)   32          input_1[0][0]                    \n",
      "__________________________________________________________________________________________________\n",
      "norm_1 (BatchNormalization)     (None, 28, 28, 16)   64          conv_1[0][0]                     \n",
      "__________________________________________________________________________________________________\n",
      "norm_2 (BatchNormalization)     (None, 28, 28, 32)   128         conv_2[0][0]                     \n",
      "__________________________________________________________________________________________________\n",
      "leaky_re_lu_1 (LeakyReLU)       (None, 28, 28, 16)   0           norm_1[0][0]                     \n",
      "__________________________________________________________________________________________________\n",
      "leaky_re_lu_2 (LeakyReLU)       (None, 28, 28, 32)   0           norm_2[0][0]                     \n",
      "__________________________________________________________________________________________________\n",
      "max_pooling2d_1 (MaxPooling2D)  (None, 14, 14, 16)   0           leaky_re_lu_1[0][0]              \n",
      "__________________________________________________________________________________________________\n",
      "max_pooling2d_2 (MaxPooling2D)  (None, 14, 14, 32)   0           leaky_re_lu_2[0][0]              \n",
      "__________________________________________________________________________________________________\n",
      "concatenate_1 (Concatenate)     (None, 14, 14, 48)   0           max_pooling2d_1[0][0]            \n",
      "                                                                 max_pooling2d_2[0][0]            \n",
      "__________________________________________________________________________________________________\n",
      "conv_3 (Conv2D)                 (None, 14, 14, 128)  55296       concatenate_1[0][0]              \n",
      "__________________________________________________________________________________________________\n",
      "norm_3 (BatchNormalization)     (None, 14, 14, 128)  512         conv_3[0][0]                     \n",
      "__________________________________________________________________________________________________\n",
      "leaky_re_lu_3 (LeakyReLU)       (None, 14, 14, 128)  0           norm_3[0][0]                     \n",
      "__________________________________________________________________________________________________\n",
      "pool_avg (AveragePooling2D)     (None, 1, 1, 128)    0           leaky_re_lu_3[0][0]              \n",
      "__________________________________________________________________________________________________\n",
      "flatten_1 (Flatten)             (None, 128)          0           pool_avg[0][0]                   \n",
      "__________________________________________________________________________________________________\n",
      "dropout_1 (Dropout)             (None, 128)          0           flatten_1[0][0]                  \n",
      "__________________________________________________________________________________________________\n",
      "dense_1 (Dense)                 (None, 64)           8256        dropout_1[0][0]                  \n",
      "__________________________________________________________________________________________________\n",
      "output (Dense)                  (None, 10)           650         dense_1[0][0]                    \n",
      "==================================================================================================\n",
      "Total params: 65,722\n",
      "Trainable params: 65,370\n",
      "Non-trainable params: 352\n",
      "__________________________________________________________________________________________________\n",
      "None\n"
     ]
    }
   ],
   "source": [
    "IMG_SIZE = 28\n",
    "\n",
    "# Input tensor\n",
    "################ STUDENT CODE HERE ###############\n",
    "\n",
    "# Create input\n",
    "input_image = Input(shape=(28,28,1))\n",
    "\n",
    "##################################################\n",
    "\n",
    "\n",
    "# Convolutional Layer 1\n",
    "c1 = Conv2D(16, (7,7), strides=1, padding=\"same\", kernel_initializer=\"glorot_uniform\", name=\"conv_1\", use_bias=False)(input_image) #implicitly: activation=\"linear\"\n",
    "c1 = BatchNormalization(name=\"norm_1\")(c1)\n",
    "c1 = LeakyReLU(alpha=0.1)(c1)\n",
    "pool1 = MaxPooling2D(pool_size=(2,2))(c1)\n",
    "\n",
    "c2 = Conv2D(32, (1,1), padding=\"same\", kernel_initializer=\"glorot_uniform\", name=\"conv_2\", use_bias=False)(input_image)\n",
    "c2 = BatchNormalization(name=\"norm_2\")(c2)\n",
    "c2 = LeakyReLU(alpha=0.1)(c2)\n",
    "pool2 = MaxPooling2D(pool_size=(2,2))(c2)\n",
    "\n",
    "pool_concat = concatenate([pool1, pool2])\n",
    "\n",
    "c3 = Conv2D(128, (3,3),padding=\"same\", kernel_initializer=\"glorot_uniform\", name=\"conv_3\", use_bias=False)(pool_concat) \n",
    "c3 = BatchNormalization(name=\"norm_3\")(c3)\n",
    "c3 = LeakyReLU(alpha=0.1)(c3)\n",
    "pool_avg = AveragePooling2D(pool_size=(14,14), name=\"pool_avg\")(c3)\n",
    "\n",
    "x = Flatten()(pool_avg)\n",
    "\n",
    "################# STUDENT CODE HERE #####################\n",
    "# Dropout here\n",
    "\n",
    "x = Dropout(rate=0.2)(x)\n",
    "x = Dense(64, activation=\"sigmoid\", name=\"dense_1\", use_bias=True)(x)\n",
    "out = Dense(10, activation=\"sigmoid\", name=\"output\", use_bias=True)(x)\n",
    "\n",
    "# Dense here\n",
    "#########################################################\n",
    "out = Dense(10, activation=\"sigmoid\", name=\"output\", use_bias=True)(x)\n",
    "\n",
    "# y_true and y_pred are both arrays\n",
    "def custom_loss(y_true, y_pred):\n",
    "    err = y_true - y_pred\n",
    "    over = err * tf.cast((err < 0), tf.float32)\n",
    "    under = err * tf.cast((err > 0), tf.float32)\n",
    "    return 2*K.mean(K.sum(K.square(over))) + K.mean(K.sum(K.square(under)))\n",
    "\n",
    "model = Model(input_image, out)\n",
    "model.compile(optimizer=\"sgd\", loss=\"categorical_crossentropy\")\n",
    "print(model.summary())"
   ]
  },
  {
   "cell_type": "code",
   "execution_count": null,
   "metadata": {},
   "outputs": [],
   "source": [
    "early_stop = EarlyStopping(monitor='val_loss', min_delta=0.001, patience=2, verbose=1, restore_best_weights=True)\n",
    "history = model.fit(x_train, y_train_onehot, validation_split=0.1, batch_size=128, epochs=100, verbose=1, callbacks=[early_stop])"
   ]
  },
  {
   "cell_type": "code",
   "execution_count": 19,
   "metadata": {},
   "outputs": [
    {
     "name": "stdout",
     "output_type": "stream",
     "text": [
      "10000/10000 [==============================] - 1s 84us/step\n",
      "(10000,) (10000,)\n"
     ]
    }
   ],
   "source": [
    "results = model.predict(x_test, batch_size=1024, verbose=1)\n",
    "guess = []\n",
    "for r in results:\n",
    "    guess.append(r.argmax())\n",
    "guess = np.array(guess)"
   ]
  },
  {
   "cell_type": "code",
   "execution_count": 30,
   "metadata": {},
   "outputs": [
    {
     "name": "stdout",
     "output_type": "stream",
     "text": [
      "Percent incorrect: 4.45\n",
      "\n"
     ]
    },
    {
     "data": {
      "image/png": "[encoded data removed]",
      "text/plain": [
       "<Figure size 432x288 with 1 Axes>"
      ]
     },
     "metadata": {
      "needs_background": "light"
     },
     "output_type": "display_data"
    }
   ],
   "source": [
    "err = y_test - guess\n",
    "print(\"Percent incorrect:\",np.count_nonzero(err)/len(err)*100)\n",
    "print()\n",
    "\n",
    "plt.hist(err, bins=10)\n",
    "plt.xlabel(\"Difference between predicted and true\")\n",
    "plt.ylabel(\"Count\")\n",
    "plt.show()"
   ]
  }
 ],
 "metadata": {
  "kernelspec": {
   "display_name": "Python 3",
   "language": "python",
   "name": "python3"
  },
  "language_info": {
   "codemirror_mode": {
    "name": "ipython",
    "version": 3
   },
   "file_extension": ".py",
   "mimetype": "text/x-python",
   "name": "python",
   "nbconvert_exporter": "python",
   "pygments_lexer": "ipython3",
   "version": "3.7.3"
  }
 },
 "nbformat": 4,
 "nbformat_minor": 2
}
