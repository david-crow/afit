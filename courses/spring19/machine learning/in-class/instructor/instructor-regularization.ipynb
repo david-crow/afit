{
 "cells": [
  {
   "cell_type": "code",
   "execution_count": 50,
   "metadata": {
    "collapsed": true
   },
   "outputs": [],
   "source": [
    "import pandas as pd\n",
    "import numpy as np\n",
    "import matplotlib.pyplot as plt\n",
    "from sklearn import linear_model\n",
    "from sklearn.model_selection import train_test_split\n",
    "from sklearn.metrics import mean_squared_error"
   ]
  },
  {
   "cell_type": "markdown",
   "metadata": {},
   "source": [
    "# Step 1 & 2 Helper Functions"
   ]
  },
  {
   "cell_type": "code",
   "execution_count": 51,
   "metadata": {
    "collapsed": true
   },
   "outputs": [],
   "source": [
    "def makeDataQuadratic(myseed):\n",
    "    np.random.seed(myseed)   #dont forget to import numpy as np\n",
    "    #y = np.zeros(shape = 100) #100  0-1 normal floats\n",
    "    x = np.random.normal(size=100) #100  0-1 normal floats\n",
    "    y = 2*(x**2)+np.random.normal(size = 100)\n",
    "    df = pd.DataFrame({'x':x, 'y':y}) #dont forget to import pandas as pd\n",
    "    return(df) \n",
    "\n",
    "def polyDesignMatrix(x, p):\n",
    "    x = np.array(x)  # dont forget to import numpy as np\n",
    "    X = np.transpose(np.vstack((x**(k+1) for k in range(p+1))))\n",
    "    return(X)"
   ]
  },
  {
   "cell_type": "markdown",
   "metadata": {},
   "source": [
    "# Step 3: Generate Design Matrix of order 3"
   ]
  },
  {
   "cell_type": "code",
   "execution_count": 52,
   "metadata": {
    "collapsed": true
   },
   "outputs": [],
   "source": [
    "myseed = 1\n",
    "modelOrder = 3\n",
    "df = makeDataQuadratic(myseed)\n",
    "\n",
    "polyX = polyDesignMatrix(df['x'],modelOrder)"
   ]
  },
  {
   "cell_type": "markdown",
   "metadata": {},
   "source": [
    "# Step 4: Create train and validations sets"
   ]
  },
  {
   "cell_type": "code",
   "execution_count": 53,
   "metadata": {
    "collapsed": true
   },
   "outputs": [],
   "source": [
    "\n",
    "trainX, valX, trainy, valy = train_test_split(polyX, df['y'], test_size=0.5, random_state=42)"
   ]
  },
  {
   "cell_type": "markdown",
   "metadata": {},
   "source": [
    "# Step 5: Create Grid of Alphas "
   ]
  },
  {
   "cell_type": "code",
   "execution_count": 54,
   "metadata": {
    "collapsed": true
   },
   "outputs": [],
   "source": [
    "minalpha = -3\n",
    "maxalpha = 10\n",
    "alphagrid = np.logspace(minalpha,maxalpha,num=50)"
   ]
  },
  {
   "cell_type": "markdown",
   "metadata": {},
   "source": [
    "# Step 6: Create ridge regression model and display coefficients"
   ]
  },
  {
   "cell_type": "code",
   "execution_count": 55,
   "metadata": {
    "collapsed": false
   },
   "outputs": [
    {
     "name": "stdout",
     "output_type": "stream",
     "text": [
      "\n",
      "[[ -2.72149835e-01   1.87486052e+00   1.58795792e-01   7.41921059e-02]\n",
      " [ -2.72105001e-01   1.87473741e+00   1.58782960e-01   7.42248835e-02]\n",
      " [ -2.72022439e-01   1.87451069e+00   1.58759332e-01   7.42852491e-02]\n",
      " [ -2.71870442e-01   1.87409320e+00   1.58715833e-01   7.43964031e-02]\n",
      " [ -2.71590754e-01   1.87332471e+00   1.58635798e-01   7.46010079e-02]\n",
      " [ -2.71076564e-01   1.87191094e+00   1.58488677e-01   7.49774013e-02]\n",
      " [ -2.70132821e-01   1.86931293e+00   1.58218720e-01   7.56690424e-02]\n",
      " [ -2.68405945e-01   1.86454831e+00   1.57724977e-01   7.69373506e-02]\n",
      " [ -2.65263646e-01   1.85584242e+00   1.56827306e-01   7.92543707e-02]\n",
      " [ -2.59603624e-01   1.84004168e+00   1.55212933e-01   8.34582172e-02]\n",
      " [ -2.49594340e-01   1.81171058e+00   1.52366352e-01   9.09911299e-02]\n",
      " [ -2.32464275e-01   1.76199889e+00   1.47520956e-01   1.04193839e-01]\n",
      " [ -2.04768805e-01   1.67797784e+00   1.39765983e-01   1.26462100e-01]\n",
      " [ -1.64033018e-01   1.54450927e+00   1.28576880e-01   1.61700572e-01]\n",
      " [ -1.12305754e-01   1.35185586e+00   1.14892828e-01   2.12206022e-01]\n",
      " [ -5.89060184e-02   1.10858545e+00   1.01825248e-01   2.75117158e-01]\n",
      " [ -1.62802530e-02   8.47877836e-01   9.31394985e-02   3.40640902e-01]\n",
      " [  9.54504174e-03   6.12816182e-01   9.02370542e-02   3.95839831e-01]\n",
      " [  2.17206836e-02   4.30987857e-01   9.14921331e-02   4.31096795e-01]\n",
      " [  2.64309816e-02   3.04857860e-01   9.40633466e-02   4.42328424e-01]\n",
      " [  2.76794053e-02   2.21281636e-01   9.49418875e-02   4.28541093e-01]\n",
      " [  2.67310569e-02   1.64128164e-01   9.10974312e-02   3.89773608e-01]\n",
      " [  2.36793297e-02   1.21181177e-01   8.05988111e-02   3.28527405e-01]\n",
      " [  1.89294419e-02   8.61579934e-02   6.43865886e-02   2.53158502e-01]\n",
      " [  1.36021923e-02   5.76717489e-02   4.62393064e-02   1.77570392e-01]\n",
      " [  8.89931904e-03   3.62134817e-02   3.02394585e-02   1.14483541e-01]\n",
      " [  5.42380889e-03   2.15658534e-02   1.84248315e-02   6.91833892e-02]\n",
      " [  3.15199364e-03   1.23730463e-02   1.07056863e-02   4.00136384e-02]\n",
      " [  1.77876728e-03   6.93348010e-03   6.04099517e-03   2.25212961e-02]\n",
      " [  9.86740207e-04   3.83145547e-03   3.35096582e-03   1.24751833e-02]\n",
      " [  5.42088879e-04   2.10049238e-03   1.84087992e-03   6.84810701e-03]\n",
      " [  2.96207550e-04   1.14644076e-03   1.00587591e-03   3.74032025e-03]\n",
      " [  1.61374220e-04   6.24195439e-04   5.47997779e-04   2.03725281e-03]\n",
      " [  8.77744969e-05   3.39397502e-04   2.98065019e-04   1.10795916e-03]\n",
      " [  4.77000695e-05   1.84408079e-04   1.61979702e-04   6.02066333e-04]\n",
      " [  2.59096199e-05   1.00156441e-04   8.79836637e-05   3.27016784e-04]\n",
      " [  1.40698571e-05   5.43856265e-05   4.77782643e-05   1.77578270e-04]\n",
      " [  7.63935583e-06   2.95283030e-05   2.59416294e-05   9.64166551e-05]\n",
      " [  4.14753774e-06   1.60311693e-05   1.40841539e-05   5.23459462e-05]\n",
      " [  2.25167545e-06   8.70315875e-06   7.64620890e-06   2.84182338e-05]\n",
      " [  1.22239448e-06   4.72476770e-06   4.15099030e-06   1.54277254e-05]\n",
      " [  6.63608003e-07   2.56495407e-06   2.25347082e-06   8.37532591e-06]\n",
      " [  3.60254109e-07   1.39243946e-06   1.22334587e-06   4.54672636e-06]\n",
      " [  1.95571107e-07   7.55912884e-07   6.64117624e-07   2.46828012e-06]\n",
      " [  1.06169455e-07   4.10361365e-07   3.60528746e-07   1.33995210e-06]\n",
      " [  5.76360247e-08   2.22772100e-07   1.95719603e-07   7.27417368e-07]\n",
      " [  3.12887487e-08   1.20935812e-07   1.06249893e-07   3.94891535e-07]\n",
      " [  1.69856525e-08   6.56521475e-08   5.76796401e-08   2.14373873e-07]\n",
      " [  9.22096136e-09   3.56404261e-08   3.13124109e-08   1.16376640e-07]\n",
      " [  5.00576120e-09   1.93480323e-08   1.69984935e-08   6.31771072e-08]]\n",
      "[ 1.0048624   1.00485446  1.00483988  1.00481312  1.00476423  1.00467546\n",
      "  1.00451637  1.00423809  1.00377465  1.00308167  1.0023141   1.00242275\n",
      "  1.00672932  1.0238217   1.06929881  1.15822927  1.28530338  1.41554183\n",
      "  1.50756401  1.54817906  1.57658045  1.70596088  2.12286624  2.98522657\n",
      "  4.2324236   5.56499103  6.68518217  7.47868825  7.98164647  8.27969057\n",
      "  8.44956102  8.54428039  8.59645866  8.6250114   8.64057918  8.64905037\n",
      "  8.653655    8.65615645  8.65751491  8.65825253  8.65865301  8.65887042\n",
      "  8.65898846  8.65905253  8.65908732  8.6591062   8.65911646  8.65912202\n",
      "  8.65912504  8.65912668]\n"
     ]
    }
   ],
   "source": [
    "ridgeCoeffs = np.zeros((len(alphagrid),modelOrder+1))\n",
    "ridgeMSEs = np.zeros(len(alphagrid))\n",
    "\n",
    "\n",
    "i = 0\n",
    "for i, myalpha in enumerate(alphagrid):\n",
    "    mymodelR = linear_model.Ridge(alpha = myalpha, fit_intercept=False)\n",
    "    mymodelR.fit(trainX,trainy)\n",
    "    preds = mymodelR.predict(valX)\n",
    "    ridgeMSEs[i] = mean_squared_error(preds,valy)\n",
    "    ridgeCoeffs[i,:] = mymodelR.coef_\n",
    "    \n",
    "\n",
    "print()\n",
    "print(ridgeCoeffs)\n",
    "print(ridgeMSEs)\n",
    "\n"
   ]
  },
  {
   "cell_type": "markdown",
   "metadata": {},
   "source": [
    "# Step 7:  Plot coefficencts of ridge model as function of alphas"
   ]
  },
  {
   "cell_type": "code",
   "execution_count": 56,
   "metadata": {
    "collapsed": false
   },
   "outputs": [
    {
     "data": {
      "image/png": "[encoded data removed]",
      "text/plain": [
       "<matplotlib.figure.Figure at 0x1b557f98a20>"
      ]
     },
     "metadata": {},
     "output_type": "display_data"
    }
   ],
   "source": [
    "minRidgeMSEindeces = np.argmin(ridgeMSEs)\n",
    "minRidgeMSE = ridgeMSEs[minRidgeMSEindeces]\n",
    "minRidgeAlpha = alphagrid[minRidgeMSEindeces]\n",
    "\n",
    "plt.figure()\n",
    "plt.semilogx(alphagrid,ridgeCoeffs[:,0:modelOrder+1])\n",
    "#plt.loglog(alphagrid,np.abs(ridgeCoeffs[:,0:modelOrder+1]))\n",
    "plt.legend([\"B0\",\"B1\",\"B2\",\"B3\"])\n",
    "plt.title(\"Ridge coefficients\")\n",
    "plt.axhline(linestyle = '--', color='k')\n",
    "plt.axvline(x=minRidgeAlpha, color='k')\n",
    "plt.xlabel('alpha')\n",
    "plt.ylabel('Coefficient')\n",
    "plt.show()\n",
    "\n"
   ]
  },
  {
   "cell_type": "markdown",
   "metadata": {},
   "source": [
    "# Step 8:  For Ridge, plot alphs vs. MSE on predictions of the validation set"
   ]
  },
  {
   "cell_type": "code",
   "execution_count": 57,
   "metadata": {
    "collapsed": false
   },
   "outputs": [
    {
     "data": {
      "image/png": "[encoded data removed]",
      "text/plain": [
       "<matplotlib.figure.Figure at 0x1b5580f1828>"
      ]
     },
     "metadata": {},
     "output_type": "display_data"
    }
   ],
   "source": [
    "\n",
    "\n",
    "\n",
    "plt.figure()\n",
    "plt.semilogx(alphagrid,ridgeMSEs[:])\n",
    "#plt.legend([\"MSE\"])\n",
    "plt.title(\"Ridge coefficients\")\n",
    "plt.annotate('Min MSE:'+ str(minRidgeMSE) + ' minimizing alpha: '+ str(minRidgeAlpha) ,\n",
    "            xy=(minRidgeAlpha, minRidgeMSE), xycoords='data',\n",
    "            xytext=(1.2, 0.2), textcoords='axes fraction',\n",
    "            arrowprops=dict(facecolor='black', shrink=0.15),\n",
    "            horizontalalignment='right', verticalalignment='top')\n",
    "plt.xlabel('alpha')\n",
    "plt.ylabel('MSE')\n",
    "plt.show()"
   ]
  },
  {
   "cell_type": "markdown",
   "metadata": {},
   "source": [
    "# Step 9: Create LASSO regression model and display coefficients"
   ]
  },
  {
   "cell_type": "code",
   "execution_count": 58,
   "metadata": {
    "collapsed": false
   },
   "outputs": [
    {
     "name": "stdout",
     "output_type": "stream",
     "text": [
      "\n",
      "[[-0.26720267  1.87202531  0.15712795  0.07496331]\n",
      " [-0.26227117  1.8688994   0.15544955  0.07582277]\n",
      " [-0.25318699  1.86314125  0.15235781  0.07740595]\n",
      " [-0.23645329  1.85253433  0.14666261  0.08032229]\n",
      " [-0.20563013  1.83299724  0.1361722   0.08569394]\n",
      " [-0.14885971  1.79701725  0.11685106  0.09558641]\n",
      " [-0.04428155  1.73073624  0.08125905  0.11381   ]\n",
      " [-0.          1.6357564   0.06307056  0.13888737]\n",
      " [-0.          1.47471272  0.05561247  0.18067724]\n",
      " [ 0.          1.17811843  0.04187635  0.25764075]\n",
      " [ 0.          0.63167879  0.01657004  0.39943829]\n",
      " [ 0.          0.          0.          0.55379706]\n",
      " [ 0.          0.          0.          0.52106791]\n",
      " [ 0.          0.          0.          0.46077853]\n",
      " [ 0.          0.          0.          0.34972127]\n",
      " [ 0.          0.          0.          0.14514604]\n",
      " [ 0.          0.          0.          0.        ]\n",
      " [ 0.          0.          0.          0.        ]\n",
      " [ 0.          0.          0.          0.        ]\n",
      " [ 0.          0.          0.          0.        ]\n",
      " [ 0.          0.          0.          0.        ]\n",
      " [ 0.          0.          0.          0.        ]\n",
      " [ 0.          0.          0.          0.        ]\n",
      " [ 0.          0.          0.          0.        ]\n",
      " [ 0.          0.          0.          0.        ]\n",
      " [ 0.          0.          0.          0.        ]\n",
      " [ 0.          0.          0.          0.        ]\n",
      " [ 0.          0.          0.          0.        ]\n",
      " [ 0.          0.          0.          0.        ]\n",
      " [ 0.          0.          0.          0.        ]\n",
      " [ 0.          0.          0.          0.        ]\n",
      " [ 0.          0.          0.          0.        ]\n",
      " [ 0.          0.          0.          0.        ]\n",
      " [ 0.          0.          0.          0.        ]\n",
      " [ 0.          0.          0.          0.        ]\n",
      " [ 0.          0.          0.          0.        ]\n",
      " [ 0.          0.          0.          0.        ]\n",
      " [ 0.          0.          0.          0.        ]\n",
      " [ 0.          0.          0.          0.        ]\n",
      " [ 0.          0.          0.          0.        ]\n",
      " [ 0.          0.          0.          0.        ]\n",
      " [ 0.          0.          0.          0.        ]\n",
      " [ 0.          0.          0.          0.        ]\n",
      " [ 0.          0.          0.          0.        ]\n",
      " [ 0.          0.          0.          0.        ]\n",
      " [ 0.          0.          0.          0.        ]\n",
      " [ 0.          0.          0.          0.        ]\n",
      " [ 0.          0.          0.          0.        ]\n",
      " [ 0.          0.          0.          0.        ]\n",
      " [ 0.          0.          0.          0.        ]]\n",
      "[ 1.00400881  1.00318902  1.00174634  0.9993176   0.99562013  0.99144303\n",
      "  0.99268311  1.006801    1.04399297  1.16005207  1.53531472  2.13374857\n",
      "  1.97198274  1.85400856  2.24750504  5.0449777   8.65912863  8.65912863\n",
      "  8.65912863  8.65912863  8.65912863  8.65912863  8.65912863  8.65912863\n",
      "  8.65912863  8.65912863  8.65912863  8.65912863  8.65912863  8.65912863\n",
      "  8.65912863  8.65912863  8.65912863  8.65912863  8.65912863  8.65912863\n",
      "  8.65912863  8.65912863  8.65912863  8.65912863  8.65912863  8.65912863\n",
      "  8.65912863  8.65912863  8.65912863  8.65912863  8.65912863  8.65912863\n",
      "  8.65912863  8.65912863]\n"
     ]
    }
   ],
   "source": [
    "lassoCoeffs = np.zeros((len(alphagrid),modelOrder+1))\n",
    "lassoMSEs = np.zeros(len(alphagrid))\n",
    "\n",
    "i = 0\n",
    "for i, myalpha in enumerate(alphagrid):\n",
    "    mymodelL = linear_model.Lasso(alpha = myalpha, fit_intercept=False)\n",
    "    mymodelL.fit(trainX,trainy)\n",
    "    preds = mymodelL.predict(valX)\n",
    "    lassoMSEs[i] = mean_squared_error(preds,valy)\n",
    "    lassoCoeffs[i,:] = mymodelL.coef_\n",
    "\n",
    "print()\n",
    "print(lassoCoeffs)\n",
    "print(lassoMSEs)"
   ]
  },
  {
   "cell_type": "markdown",
   "metadata": {},
   "source": [
    "# Step 10:  Plot coefficients of LASSO as a function of alpha value & describe coefficients behavior"
   ]
  },
  {
   "cell_type": "code",
   "execution_count": 59,
   "metadata": {
    "collapsed": false
   },
   "outputs": [
    {
     "data": {
      "image/png": "[encoded data removed]",
      "text/plain": [
       "<matplotlib.figure.Figure at 0x1b558306eb8>"
      ]
     },
     "metadata": {},
     "output_type": "display_data"
    }
   ],
   "source": [
    "minlassoMSEindeces = np.argmin(lassoMSEs)\n",
    "minlassoMSE = lassoMSEs[minlassoMSEindeces]\n",
    "minlassoAlpha = alphagrid[minlassoMSEindeces]\n",
    "\n",
    "\n",
    "plt.figure()\n",
    "plt.semilogx(alphagrid,lassoCoeffs[:,0:modelOrder+1])\n",
    "plt.legend([\"B0\",\"B1\",\"B2\",\"B3\"])\n",
    "plt.title(\"Lasso coefficients\")\n",
    "plt.axhline(linestyle = '--', color='k')\n",
    "plt.axvline(x=minlassoAlpha, color='k')\n",
    "plt.xlabel('alpha')\n",
    "plt.ylabel('Coefficient')\n",
    "plt.show()"
   ]
  },
  {
   "cell_type": "markdown",
   "metadata": {},
   "source": [
    "# Step 11:  For LASSO, plot alphas vs. MSE on predictions of the validation set"
   ]
  },
  {
   "cell_type": "code",
   "execution_count": 60,
   "metadata": {
    "collapsed": false
   },
   "outputs": [
    {
     "data": {
      "image/png": "[encoded data removed]",
      "text/plain": [
       "<matplotlib.figure.Figure at 0x1b557feb9b0>"
      ]
     },
     "metadata": {},
     "output_type": "display_data"
    }
   ],
   "source": [
    "\n",
    "\n",
    "plt.figure()\n",
    "plt.semilogx(alphagrid,lassoMSEs[:])\n",
    "#plt.legend([\"MSE\"])\n",
    "plt.title(\"LASSO coefficients\")\n",
    "plt.annotate('Min MSE:'+ str(minlassoMSE) + ' minimizing alpha: '+ str(minlassoAlpha) ,\n",
    "            xy=(minlassoAlpha, minlassoMSE), xycoords='data',\n",
    "            xytext=(1.4, 0.2), textcoords='axes fraction',\n",
    "            arrowprops=dict(facecolor='black', shrink=0.15),\n",
    "            horizontalalignment='right', verticalalignment='top')\n",
    "plt.xlabel('alpha')\n",
    "plt.ylabel('MSE')\n",
    "plt.show()"
   ]
  },
  {
   "cell_type": "markdown",
   "metadata": {},
   "source": [
    "# Step 12:  Use validation set to determine best ridge and lasso values for data"
   ]
  },
  {
   "cell_type": "code",
   "execution_count": 61,
   "metadata": {
    "collapsed": false
   },
   "outputs": [
    {
     "name": "stdout",
     "output_type": "stream",
     "text": [
      "LASSO Model is the best model - at alpha  0.0212095088792  MSE =  0.991443025785\n"
     ]
    }
   ],
   "source": [
    "if minRidgeMSE < minlassoMSE:\n",
    "    print(\"Ridge Model is the best model - at alpha \", minRidgeAlpha, \" MSE = \", minRidgeMSE)\n",
    "else:\n",
    "    print(\"LASSO Model is the best model - at alpha \", minlassoAlpha, \" MSE = \", minlassoMSE)\n",
    "    \n",
    "    \n"
   ]
  },
  {
   "cell_type": "code",
   "execution_count": null,
   "metadata": {
    "collapsed": true
   },
   "outputs": [],
   "source": []
  }
 ],
 "metadata": {
  "kernelspec": {
   "display_name": "Python 3",
   "language": "python",
   "name": "python3"
  },
  "language_info": {
   "codemirror_mode": {
    "name": "ipython",
    "version": 3
   },
   "file_extension": ".py",
   "mimetype": "text/x-python",
   "name": "python",
   "nbconvert_exporter": "python",
   "pygments_lexer": "ipython3",
   "version": "3.7.1"
  }
 },
 "nbformat": 4,
 "nbformat_minor": 2
}
