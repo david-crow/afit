{
 "cells": [
  {
   "cell_type": "code",
   "execution_count": 1,
   "metadata": {
    "collapsed": false
   },
   "outputs": [
    {
     "name": "stdout",
     "output_type": "stream",
     "text": [
      "\n",
      " \n",
      " DAY 3/4 \n",
      " \n",
      "\n"
     ]
    }
   ],
   "source": [
    "print ( '\\n', '\\n','DAY 3/4', '\\n', '\\n')\n",
    "\n",
    "import numpy as np\n",
    "import matplotlib.pyplot as plt"
   ]
  },
  {
   "cell_type": "code",
   "execution_count": 2,
   "metadata": {
    "collapsed": true
   },
   "outputs": [],
   "source": [
    "#STUDENT CODE - insert code to load your matrix here\n",
    "#---------------------------------------------    \n",
    "pretest_scores = np.array([95., 85., 80., 70., 60.]).T  #(5x1 array)\n",
    "y = np.array([[85.,95.,70.,65.,70.]]).T\n",
    "#---------------------------------------------    "
   ]
  },
  {
   "cell_type": "code",
   "execution_count": 3,
   "metadata": {
    "collapsed": true
   },
   "outputs": [],
   "source": [
    "#build the design matrix X\n",
    "X = np.vstack((np.ones(len(pretest_scores)),pretest_scores)).T                         "
   ]
  },
  {
   "cell_type": "code",
   "execution_count": 4,
   "metadata": {
    "collapsed": false
   },
   "outputs": [
    {
     "name": "stdout",
     "output_type": "stream",
     "text": [
      "B \n",
      " [[ 20. ]\n",
      " [  0.5]] \n",
      "\n",
      "X \n",
      " [[  1.  95.]\n",
      " [  1.  85.]\n",
      " [  1.  80.]\n",
      " [  1.  70.]\n",
      " [  1.  60.]] \n",
      "\n"
     ]
    }
   ],
   "source": [
    "#STUDENT CODE - Insert code for your beta guess here\n",
    "#---------------------------------------------          \n",
    "#beta = np.array([[26.768,0.644]]).T    #guess the betas (2 x 1 array)  \n",
    "beta = np.array([[20.,0.5]]).T    #guess the betas (2 x 1 array)  \n",
    "#---------------------------------------------      \n",
    "\n",
    "#print the Betas and X's\n",
    "print('B','\\n', beta, '\\n')\n",
    "print('X', '\\n', X, '\\n')"
   ]
  },
  {
   "cell_type": "code",
   "execution_count": 5,
   "metadata": {
    "collapsed": false
   },
   "outputs": [
    {
     "name": "stdout",
     "output_type": "stream",
     "text": [
      "yhat \n",
      " [[ 67.5]\n",
      " [ 62.5]\n",
      " [ 60. ]\n",
      " [ 55. ]\n",
      " [ 50. ]] \n",
      "\n"
     ]
    }
   ],
   "source": [
    "#STUDENT CODE - Insert code for computing yhat here:\n",
    "#----------------------------------------------\n",
    "#estimate yhat for all datapoints\n",
    "yhat = np.dot(X,beta)\n",
    "#----------------------------------------------\n",
    "\n",
    "print('yhat','\\n',  yhat,'\\n')\n",
    "#print(yhat)"
   ]
  },
  {
   "cell_type": "code",
   "execution_count": 6,
   "metadata": {
    "collapsed": false
   },
   "outputs": [
    {
     "name": "stdout",
     "output_type": "stream",
     "text": [
      "ydif \n",
      " [[-17.5]\n",
      " [-32.5]\n",
      " [-10. ]\n",
      " [-10. ]\n",
      " [-20. ]] \n",
      "\n"
     ]
    }
   ],
   "source": [
    "#STUDENT CODE - insert your code for the error terms here\n",
    "#----------------------------------------------\n",
    "#find the difference betwen predicted and truth \n",
    "ydiff = yhat-y\n",
    "#----------------------------------------------\n",
    "\n",
    "print('ydif', '\\n',ydiff, '\\n')"
   ]
  },
  {
   "cell_type": "code",
   "execution_count": 7,
   "metadata": {
    "collapsed": false
   },
   "outputs": [
    {
     "name": "stdout",
     "output_type": "stream",
     "text": [
      "\n",
      "RSS:  [[ 1962.5]] \n",
      "\n",
      "MSE:  [[ 392.5]] \n",
      "\n",
      "RMSE:  [[ 19.81161276]] \n",
      "\n"
     ]
    }
   ],
   "source": [
    "#STUDENT CODE - insert your code for determining RSS, MSE and RMSE here\n",
    "#----------------------------------------------\n",
    "#compute RSS\n",
    "rss = np.dot(ydiff.T,ydiff)\n",
    "\n",
    "#compute MSE\n",
    "mse = rss/len(ydiff)\n",
    "\n",
    "#compute RMSE\n",
    "rmse =  np.sqrt(mse)\n",
    "#----------------------------------------------\n",
    "\n",
    "print()\n",
    "print('RSS: ', rss, '\\n')\n",
    "print('MSE: ', mse, '\\n')\n",
    "print('RMSE: ',rmse, '\\n')"
   ]
  },
  {
   "cell_type": "code",
   "execution_count": 8,
   "metadata": {
    "collapsed": false
   },
   "outputs": [
    {
     "name": "stdout",
     "output_type": "stream",
     "text": [
      "Prediction at 80 [ 60.] \n",
      "\n"
     ]
    }
   ],
   "source": [
    "#STUDENT CODE - insert your code for predicting final exam score for Xi = 80 \n",
    "#----------------------------------------------\n",
    "#make prediction on test score of 80\n",
    "t = np.array([1, 80])\n",
    "ythat = np.dot(t,beta)\n",
    "#----------------------------------------------\n",
    "print('Prediction at 80', ythat, '\\n')"
   ]
  },
  {
   "cell_type": "code",
   "execution_count": 9,
   "metadata": {
    "collapsed": false
   },
   "outputs": [
    {
     "data": {
      "image/png": "[encoded data removed]",
      "text/plain": [
       "<matplotlib.figure.Figure at 0x1bc94482cc0>"
      ]
     },
     "metadata": {},
     "output_type": "display_data"
    }
   ],
   "source": [
    "#function to generate line points for plotting\n",
    "def computeline(intercept,slope,start_x,end_x):\n",
    "    points_x=[start_x,end_x]\n",
    "    points_y=[intercept,intercept+slope*end_x]\n",
    "    return points_x, points_y\n",
    "\n",
    "\n",
    "#ADD PLOTTING WITH MATPLOTLIB\n",
    "#make the figure\n",
    "fig = plt.figure()\n",
    "plt.axis([0.,100.,0.,100.])\n",
    "\n",
    "#add the points in black\n",
    "plt.scatter(X[:,1],y,c='k',marker='x')\n",
    "\n",
    "\n",
    "#add the predicted final exam score for Aptitude test = 80\n",
    "plt.scatter(t[1],ythat,c='g',marker='o')\n",
    "\n",
    "#add the student line in blue\n",
    "points_x,points_y = computeline(beta[0,0],beta[1,0],0,100)\n",
    "plt.plot(points_x,points_y,c='r')\n",
    "\n",
    "#add the ideal line based on linear least squares fit\n",
    "intercept, slope = np.linalg.lstsq(X, y)[0]\n",
    "ideal_x,ideal_y=computeline(intercept,slope,0,100)\n",
    "plt.plot(ideal_x,ideal_y,ls='--',c='b')\n",
    "\n",
    "plt.title('Simple Regression')\n",
    "plt.ylabel('Final Exam Score')\n",
    "plt.xlabel('Aptitude test score')\n",
    "plt.axis('equal')\n",
    "plt.grid(True)\n",
    "plt.show()"
   ]
  },
  {
   "cell_type": "code",
   "execution_count": null,
   "metadata": {
    "collapsed": true
   },
   "outputs": [],
   "source": []
  }
 ],
 "metadata": {
  "kernelspec": {
   "display_name": "Python 3",
   "language": "python",
   "name": "python3"
  },
  "language_info": {
   "codemirror_mode": {
    "name": "ipython",
    "version": 3
   },
   "file_extension": ".py",
   "mimetype": "text/x-python",
   "name": "python",
   "nbconvert_exporter": "python",
   "pygments_lexer": "ipython3",
   "version": "3.7.1"
  }
 },
 "nbformat": 4,
 "nbformat_minor": 2
}
