{
 "cells": [
  {
   "cell_type": "code",
   "execution_count": 1,
   "metadata": {},
   "outputs": [
    {
     "name": "stdout",
     "output_type": "stream",
     "text": [
      "\n",
      " \n",
      " DAY 3/4 \n",
      " \n",
      "\n"
     ]
    }
   ],
   "source": [
    "\"\"\"\n",
    "Day 3 - Simple linear algebra\n",
    "\"\"\"\n",
    "\n",
    "print ( '\\n', '\\n','DAY 3/4', '\\n', '\\n')\n",
    "\n",
    "import numpy as np\n",
    "import matplotlib.pyplot as plt"
   ]
  },
  {
   "cell_type": "markdown",
   "metadata": {},
   "source": [
    "STUDENT CODE - insert code to hardcode your matrix here"
   ]
  },
  {
   "cell_type": "raw",
   "metadata": {},
   "source": [
    "for example \n",
    "#---------------------------------------------    \n",
    "pretest_scores = np.array([99., 81., 80., 75., 63.]).T  #(5x1 array)\n",
    "y = np.array([[82.,91.,78.,61.,72.]]).T\n",
    "#---------------------------------------------    "
   ]
  },
  {
   "cell_type": "code",
   "execution_count": 2,
   "metadata": {},
   "outputs": [],
   "source": [
    "#---------------------------------------------    \n",
    "pretest_scores = np.array([95., 85., 80., 70., 60.]).T  #(5x1 array) you populate\n",
    "y = np.array([[85., 95., 70., 65., 70.]]).T  #(5x1 array) you populate\n",
    "#---------------------------------------------    \n",
    "\n",
    "#build the design matrix X\n",
    "X = np.vstack((np.ones(len(pretest_scores)),pretest_scores)).T "
   ]
  },
  {
   "cell_type": "markdown",
   "metadata": {},
   "source": [
    "STUDENT CODE - Insert code for your beta guess here"
   ]
  },
  {
   "cell_type": "code",
   "execution_count": 3,
   "metadata": {},
   "outputs": [
    {
     "name": "stdout",
     "output_type": "stream",
     "text": [
      "B \n",
      " [[26.768]\n",
      " [ 0.644]] \n",
      "\n",
      "X \n",
      " [[ 1. 95.]\n",
      " [ 1. 85.]\n",
      " [ 1. 80.]\n",
      " [ 1. 70.]\n",
      " [ 1. 60.]] \n",
      "\n"
     ]
    }
   ],
   "source": [
    "#---------------------------------------------          \n",
    "beta = np.array([[26.768, 0.644]]).T    #guess the betas (2 x 1 array) you populate \n",
    "#---------------------------------------------      \n",
    "\n",
    "#print the Betas and X's\n",
    "print('B','\\n', beta, '\\n')\n",
    "print('X', '\\n', X, '\\n')"
   ]
  },
  {
   "cell_type": "markdown",
   "metadata": {},
   "source": [
    "STUDENT CODE - Insert code for computing yhat here:"
   ]
  },
  {
   "cell_type": "code",
   "execution_count": 4,
   "metadata": {},
   "outputs": [
    {
     "name": "stdout",
     "output_type": "stream",
     "text": [
      "yhat \n",
      " [[87.948]\n",
      " [81.508]\n",
      " [78.288]\n",
      " [71.848]\n",
      " [65.408]] \n",
      "\n"
     ]
    }
   ],
   "source": [
    "#----------------------------------------------\n",
    "#estimate yhat for all datapoints\n",
    "yhat = np.dot(X, beta) #insert code to compute yhat\n",
    "#----------------------------------------------\n",
    "\n",
    "print('yhat','\\n',  yhat,'\\n')\n",
    "#print(yhat)"
   ]
  },
  {
   "cell_type": "markdown",
   "metadata": {},
   "source": [
    "STUDENT CODE - insert your code for the error terms here"
   ]
  },
  {
   "cell_type": "code",
   "execution_count": 5,
   "metadata": {},
   "outputs": [
    {
     "name": "stdout",
     "output_type": "stream",
     "text": [
      "ydif \n",
      " [[  2.948]\n",
      " [-13.492]\n",
      " [  8.288]\n",
      " [  6.848]\n",
      " [ -4.592]] \n",
      "\n"
     ]
    }
   ],
   "source": [
    "#----------------------------------------------\n",
    "#find the difference betwen predicted and truth \n",
    "ydiff = np.subtract(yhat, y)  #insert code to compute ydiff\n",
    "#----------------------------------------------\n",
    "\n",
    "print('ydif', '\\n',ydiff, '\\n')"
   ]
  },
  {
   "cell_type": "markdown",
   "metadata": {},
   "source": [
    "STUDENT CODE - insert your code for determining RSS, MSE and RMSE here"
   ]
  },
  {
   "cell_type": "code",
   "execution_count": 6,
   "metadata": {},
   "outputs": [
    {
     "name": "stdout",
     "output_type": "stream",
     "text": [
      "\n",
      "RSS:  [[327.39728]] \n",
      "\n",
      "MSE:  [[65.479456]] \n",
      "\n",
      "RMSE:  [[8.09193772]] \n",
      "\n"
     ]
    }
   ],
   "source": [
    "#----------------------------------------------\n",
    "#compute Residual Sum of Squares RSS = the sum of the squared error terms \n",
    "rss = np.dot(ydiff.T, ydiff) #insert code to compute RSS\n",
    "\n",
    "#compute Mean Squared Error MSE\n",
    "mse = rss / len(ydiff) #insert code to compute MSE\n",
    "\n",
    "#compute Root Mean Squared Error RMSE\n",
    "rmse = np.sqrt(mse) #insert code to compute RMSE\n",
    "#----------------------------------------------\n",
    "\n",
    "print()\n",
    "print('RSS: ', rss, '\\n')\n",
    "print('MSE: ', mse, '\\n')\n",
    "print('RMSE: ',rmse, '\\n')"
   ]
  },
  {
   "cell_type": "markdown",
   "metadata": {},
   "source": [
    "STUDENT CODE - insert your code for predicting final exam score for Xi = 80 "
   ]
  },
  {
   "cell_type": "code",
   "execution_count": 7,
   "metadata": {},
   "outputs": [
    {
     "name": "stdout",
     "output_type": "stream",
     "text": [
      "Prediction at 80 [78.288] \n",
      "\n"
     ]
    }
   ],
   "source": [
    "#----------------------------------------------\n",
    "#make prediction on test score of 80\n",
    "t = np.array([1, 80])\n",
    "ythat = np.dot(t, beta) #insert code to compute the predicted final exam score at this test point\n",
    "#----------------------------------------------\n",
    "print('Prediction at 80', ythat, '\\n')"
   ]
  },
  {
   "cell_type": "code",
   "execution_count": 8,
   "metadata": {},
   "outputs": [
    {
     "name": "stderr",
     "output_type": "stream",
     "text": [
      "/anaconda3/lib/python3.7/site-packages/ipykernel_launcher.py:24: FutureWarning: `rcond` parameter will change to the default of machine precision times ``max(M, N)`` where M and N are the input matrix dimensions.\n",
      "To use the future default and silence this warning we advise to pass `rcond=None`, to keep using the old, explicitly pass `rcond=-1`.\n"
     ]
    },
    {
     "data": {
      "image/png": "[encoded data removed]",
      "text/plain": [
       "<Figure size 432x288 with 1 Axes>"
      ]
     },
     "metadata": {
      "needs_background": "light"
     },
     "output_type": "display_data"
    }
   ],
   "source": [
    "#function to generate line points for plotting\n",
    "def computeline(intercept,slope,start_x,end_x):\n",
    "    points_x=[start_x,end_x]\n",
    "    points_y=[intercept,intercept+slope*end_x]\n",
    "    return points_x, points_y\n",
    "\n",
    "\n",
    "#ADD PLOTTING WITH MATPLOTLIB\n",
    "#make the figure\n",
    "fig = plt.figure()\n",
    "plt.axis([0.,100.,0.,100.])\n",
    "\n",
    "#add the points in black\n",
    "plt.scatter(X[:,1],y,c='k',marker='x')\n",
    "\n",
    "#add the predicted final exam score for Aptitude test = 80\n",
    "plt.scatter(t[1],ythat,c='g',marker='o')\n",
    "\n",
    "#add the student line in blue\n",
    "points_x,points_y = computeline(beta[0,0],beta[1,0],0,100)\n",
    "plt.plot(points_x,points_y,c='r')\n",
    "\n",
    "#add the ideal line based on linear least squares fit\n",
    "intercept, slope = np.linalg.lstsq(X, y)[0]\n",
    "ideal_x,ideal_y=computeline(intercept,slope,0,100)\n",
    "plt.plot(ideal_x,ideal_y,ls='--',c='b')\n",
    "\n",
    "plt.title('Simple Regression')\n",
    "plt.ylabel('Final Exam Score')\n",
    "plt.xlabel('Aptitude test score')\n",
    "plt.axis('equal')\n",
    "plt.grid(True)\n",
    "plt.show()"
   ]
  },
  {
   "cell_type": "code",
   "execution_count": null,
   "metadata": {},
   "outputs": [],
   "source": []
  }
 ],
 "metadata": {
  "kernelspec": {
   "display_name": "Python 3",
   "language": "python",
   "name": "python3"
  },
  "language_info": {
   "codemirror_mode": {
    "name": "ipython",
    "version": 3
   },
   "file_extension": ".py",
   "mimetype": "text/x-python",
   "name": "python",
   "nbconvert_exporter": "python",
   "pygments_lexer": "ipython3",
   "version": "3.7.1"
  }
 },
 "nbformat": 4,
 "nbformat_minor": 2
}
