{
 "cells": [
  {
   "cell_type": "markdown",
   "metadata": {},
   "source": [
    "## Required Imports"
   ]
  },
  {
   "cell_type": "code",
   "execution_count": 1,
   "metadata": {},
   "outputs": [],
   "source": [
    "import os\n",
    "import numpy as np\n",
    "import pandas as pd\n",
    "from sklearn.model_selection import train_test_split\n",
    "from sklearn.linear_model import Lasso, Ridge, LinearRegression\n",
    "from sklearn.kernel_ridge import KernelRidge\n",
    "import time\n",
    "import itertools\n",
    "import multiprocessing\n",
    "import matplotlib.pyplot as plt"
   ]
  },
  {
   "cell_type": "markdown",
   "metadata": {},
   "source": [
    "## Utility Functions"
   ]
  },
  {
   "cell_type": "code",
   "execution_count": 2,
   "metadata": {},
   "outputs": [],
   "source": [
    "def get_data_path(data_name=\"KC_Housing\", data_file_name=\"kc_house_data.csv\"):\n",
    "    \"\"\"  Gets the data path, specific to the project configuration.\n",
    "    \n",
    "    :return path to data\n",
    "    \"\"\"\n",
    "    \n",
    "    proj_dirs = os.getcwd().split(\"code\")\n",
    "    data_dir = os.path.join(proj_dirs[0], \"Data\")\n",
    "    data_path = os.path.join(data_dir, data_name, data_file_name)\n",
    "    \n",
    "    return data_path\n",
    "    \n",
    "def get_quad_noise_data(quantity=1000, val_ratio=0.10, test_ratio=0.10):\n",
    "    \"\"\" Creates noisy 2D quadratic function\n",
    "    \n",
    "    :return x and y values\n",
    "    \"\"\"\n",
    "    np.random.seed(10)\n",
    "    \n",
    "    x = np.array([i*np.pi/180 for i in range(60,300,4)])\n",
    "    y = np.sin(x) + np.random.normal(0,0.15,len(x))\n",
    "    \n",
    "    x_train, x_test, y_train, y_test = train_test_split(x, y, test_size=test_ratio)\n",
    "    x_train, x_val, y_train, y_val = train_test_split(x_train, y_train, test_size=val_ratio)\n",
    "    \n",
    "    train = [x_train, y_train]\n",
    "    val = [x_val, y_val]\n",
    "    test = [x_test, y_test]\n",
    "    \n",
    "    return train, val, test\n",
    "    \n",
    "    \n",
    "def preprocess_housing_data(standardize_data=False, val_ratio=0.10, test_ratio=0.10):\n",
    "    \"\"\"  Loads housing data, preprocesses and returns train, val, test sets\n",
    "    \n",
    "    :param standardize_data boolean whether to standardize the data\n",
    "    :return train, val, test sets\n",
    "    \"\"\"\n",
    "    data_path = get_data_path()\n",
    "    kc = pd.read_csv(data_path)\n",
    "    \n",
    "    kc = kc.drop(['id', 'date', 'view', 'waterfront', 'zipcode', 'lat', 'long', 'yr_renovated'],axis=1)\n",
    "    \n",
    "    # extract our target variable -- House prices -- into an array \n",
    "    y = kc.price.values\n",
    "\n",
    "    # Drop price from the house dataframe \n",
    "    kc = kc.drop(['price'], axis=1)\n",
    "\n",
    "    # Create a matrix from the remaining data\n",
    "    X = kc.values\n",
    "\n",
    "    # Store the column/feature names into a list \"colnames\"\n",
    "    colnames = kc.columns\n",
    "    \n",
    "    x_train, x_test, y_train, y_test = train_test_split(X, y, test_size=test_ratio)\n",
    "    x_train, x_val, y_train, y_val = train_test_split(x_train, y_train, test_size=val_ratio)\n",
    "    \n",
    "    train = [x_train, y_train]\n",
    "    val = [x_val, y_val]\n",
    "    test = [x_test, y_test]\n",
    "    \n",
    "    return train, val, test, colnames"
   ]
  },
  {
   "cell_type": "markdown",
   "metadata": {},
   "source": [
    "## Metrics"
   ]
  },
  {
   "cell_type": "code",
   "execution_count": 3,
   "metadata": {},
   "outputs": [],
   "source": [
    "def calc_rmse(truth, predicted):\n",
    "    \"\"\"  Gets the mean squared error between the truth and predicted samples.\n",
    "    \n",
    "    Assumes the matrices are samples by features (rows x columns).\n",
    "    \n",
    "    \"\"\"\n",
    "    \n",
    "    if type(truth) is np.ndarray and type(predicted) is np.ndarray:\n",
    "        if truth.shape == predicted.shape:\n",
    "            rmse = np.sqrt(np.mean(np.square(truth - predicted)))\n",
    "        else:\n",
    "            print(\"Truth and predicted arrays must be the same shape\")\n",
    "            rmse = None\n",
    "    else:\n",
    "        print(\"Convert truth and predicted arrays to numpy arrays before MSE calculation\")\n",
    "        rmse = None\n",
    "        \n",
    "    return rmse\n",
    "\n",
    "\n",
    "def calc_mse(truth, predicted):\n",
    "    \"\"\"  Gets the mean squared error between the truth and predicted samples.\n",
    "    \n",
    "    Assumes the matrices are samples by features (rows x columns).\n",
    "    \n",
    "    \"\"\"\n",
    "    \n",
    "    if type(truth) is np.ndarray and type(predicted) is np.ndarray:\n",
    "        if truth.shape == predicted.shape:\n",
    "            mse = np.mean(np.square(truth - predicted))\n",
    "        else:\n",
    "            print(\"Truth and predicted arrays must be the same shape\")\n",
    "            mse = None\n",
    "    else:\n",
    "        print(\"Convert truth and predicted arrays to numpy arrays before MSE calculation\")\n",
    "        mse = None\n",
    "        \n",
    "    return mse\n",
    "    \n",
    "def calc_mape(truth, predicted):\n",
    "    \"\"\" Calculates mean absolute percentage error\n",
    "    \n",
    "    \"\"\"\n",
    "    \n",
    "    if type(truth) is np.ndarray and type(predicted) is np.ndarray:\n",
    "        if truth.shape == predicted.shape:\n",
    "            return np.mean(np.abs((truth - predicted) / truth)) * 100\n",
    "        else:\n",
    "            print(\"Truth and predicted arrays must be the same shape\")\n",
    "    else:\n",
    "        print(\"Convert truth and predicted arrays to numpy arrays before MAPE calculation\")\n",
    "            \n",
    "    "
   ]
  },
  {
   "cell_type": "markdown",
   "metadata": {},
   "source": [
    "## Visualizations"
   ]
  },
  {
   "cell_type": "code",
   "execution_count": 4,
   "metadata": {},
   "outputs": [],
   "source": [
    "def plot_model_predictions(model, X, y):\n",
    "    \"\"\"  Plots the model predictions using X and overlays the truth values y\n",
    "    \n",
    "    Assume this is a 2-D problem.\n",
    "    \n",
    "    \"\"\"\n",
    "    if X.ndim == 1:\n",
    "        X = np.expand_dims(X, axis=1)\n",
    "    \n",
    "    if X.shape[1] == 1:\n",
    "        fig, ax = plt.subplots(1,1, figsize=(15, 7))\n",
    "        ax.scatter(X, model.predict(X), c='c', label=\"Model\")\n",
    "        ax.scatter(X, y, c='k', label=\"Truth\")\n",
    "        ax.set_xlabel(\"X\")\n",
    "        ax.set_ylabel(\"Y\")\n",
    "        plt.legend()\n",
    "    else:\n",
    "        print(\"Plotting Model Predictions can only be done with 1 input dimension.\")\n",
    "        "
   ]
  },
  {
   "cell_type": "markdown",
   "metadata": {},
   "source": [
    "## Regression Functions"
   ]
  },
  {
   "cell_type": "code",
   "execution_count": 5,
   "metadata": {},
   "outputs": [],
   "source": [
    "def fit_lasso(X, y, lam=0.2, normalize=True, **kwargs):\n",
    "    \"\"\"  Fit the lasso function using X and y.\n",
    "    \n",
    "    \"\"\"\n",
    "    if X.ndim == 1:\n",
    "        X = np.expand_dims(X, axis=1)\n",
    "    \n",
    "    # Set up the L1\n",
    "    lasso = Lasso(alpha=lam, normalize=normalize)\n",
    "    \n",
    "    # Fit the regressor to the data\n",
    "    lasso.fit(X, y)\n",
    "    \n",
    "    # Compute the coefficients\n",
    "    lasso_coef = lasso.coef_\n",
    "    \n",
    "    return lasso\n",
    "\n",
    "def fit_ridge(X, y, lam=0.5, normalize=True, **kwargs):\n",
    "    \"\"\" Performs ridge regression on the training data\n",
    "    \n",
    "    \"\"\"\n",
    "    \n",
    "    # Set up L2 Regression\n",
    "    ridge = Ridge(alpha=lam, normalize=normalize)\n",
    "    if X.ndim == 1:\n",
    "        X = np.expand_dims(X, axis=1)\n",
    "    \n",
    "    # Fit the regressor to the data\n",
    "    ridge.fit(X, y)\n",
    "    \n",
    "    return ridge\n",
    "\n",
    "def fit_kernel_ridge(X, y, lam=0.5, kernel='linear', gamma=1, degree=1, **kwargs):\n",
    "    \"\"\" Performs kernel ridge regression on the training data\n",
    "    \n",
    "    \"\"\"\n",
    "    \n",
    "    ridge = KernelRidge(alpha=lam, kernel=kernel, gamma=gamma, degree=degree)\n",
    "    if X.ndim == 1:\n",
    "        X = np.expand_dims(X, axis=1)\n",
    "    \n",
    "    # Fit the regressor to the data\n",
    "    ridge.fit(X, y)\n",
    "    \n",
    "    return ridge"
   ]
  },
  {
   "cell_type": "code",
   "execution_count": 6,
   "metadata": {},
   "outputs": [],
   "source": [
    "class regression:\n",
    "    def __init__(self,\n",
    "                method,\n",
    "                dataset,\n",
    "                **kwargs):\n",
    "        \n",
    "        self.method = method\n",
    "        self.dataset = dataset\n",
    "        \n",
    "        self.x_train = None\n",
    "        self.y_train = None\n",
    "        self.x_val = None\n",
    "        self.y_val = None\n",
    "        self.x_test = None\n",
    "        self.y_test = None\n",
    "        self.model = None\n",
    "        \n",
    "        self.__dict__.update((k, v) for k, v in kwargs.items())\n",
    "        \n",
    "        \n",
    "    def get_training_data(self):\n",
    "        \"\"\" Loads the training sets\n",
    "        \n",
    "        \"\"\"\n",
    "        if self.dataset == \"housing\":\n",
    "            train, val, test, colnames = preprocess_housing_data()\n",
    "        elif self.dataset == \"quad_noise\":\n",
    "            train, val, test = get_quad_noise_data()\n",
    "            \n",
    "        self.x_train, self.y_train = train\n",
    "        self.x_val, self.y_val = val\n",
    "        self.x_test, self.y_test = test\n",
    "        \n",
    "    def fit_regression(self):\n",
    "        \"\"\" Fits the data using fitting algorithm.\n",
    "        \n",
    "        \"\"\"\n",
    "        if self.x_train is not None:\n",
    "            if self.method == \"lasso\":\n",
    "                self.model = fit_lasso(self.x_train, self.y_train, self.lam, self.normalize)\n",
    "            elif self.method == 'ridge':\n",
    "                self.model = fit_ridge(self.x_train, self.y_train, self.lam, self.normalize)\n",
    "            elif self.method == 'kernel_ridge':\n",
    "                self.model = fit_kernel_ridge(self.x_train, self.y_train, self.lam, self.kernel,\n",
    "                                              self.gamma, self.degree)\n",
    "            else:\n",
    "                print(\"Unknown Regression Model Specified\")\n",
    "                self.model = None\n",
    "    \n",
    "    def get_val_predictions(self):\n",
    "        \"\"\" Makes predictions on the val set\n",
    "        \n",
    "        \"\"\"\n",
    "        \n",
    "        if self.x_val.ndim == 1:\n",
    "            self.x_val = np.expand_dims(self.x_val, axis=1)\n",
    "        \n",
    "        y_pred = self.model.predict(self.x_val)\n",
    "        \n",
    "        return y_pred\n",
    "            "
   ]
  },
  {
   "cell_type": "markdown",
   "metadata": {},
   "source": [
    "## Single Experiment\n",
    "\n",
    "* First make sure your code works for a single set of parameters"
   ]
  },
  {
   "cell_type": "code",
   "execution_count": 7,
   "metadata": {},
   "outputs": [],
   "source": [
    "exp_config = {\n",
    "    \"method\": \"kernel_ridge\",\n",
    "    \"lam\": 0.1,\n",
    "    \"normalize\": False,\n",
    "    \"dataset\": \"quad_noise\",\n",
    "    \"kernel\": \"polynomial\",\n",
    "    \"gamma\": 1,\n",
    "    \"degree\": 3\n",
    "}\n",
    "\n",
    "# Initialize Regression Function\n",
    "regression_method = regression(**exp_config)\n",
    "\n",
    "# Load the training data\n",
    "regression_method.get_training_data()\n",
    "\n",
    "# Fit the regression method\n",
    "regression_method.fit_regression()\n",
    "\n",
    "# Get Validation Set Predictions\n",
    "y_pred = regression_method.get_val_predictions()\n",
    "\n",
    "# Get Validation Metrics\n",
    "val_mse = calc_mse(regression_method.y_val, y_pred)\n",
    "val_rmse = calc_rmse(regression_method.y_val, y_pred)\n",
    "val_mape = calc_mape(regression_method.y_val, y_pred)"
   ]
  },
  {
   "cell_type": "code",
   "execution_count": 8,
   "metadata": {},
   "outputs": [
    {
     "data": {
      "image/png": "[encoded data removed]",
      "text/plain": [
       "<Figure size 1080x504 with 1 Axes>"
      ]
     },
     "metadata": {
      "needs_background": "light"
     },
     "output_type": "display_data"
    }
   ],
   "source": [
    "if regression_method.dataset == \"quad_noise\":\n",
    "    plot_model_predictions(regression_method.model, regression_method.x_train, regression_method.y_train)"
   ]
  },
  {
   "cell_type": "markdown",
   "metadata": {},
   "source": [
    "## Hyperparameter Sweep\n",
    "\n",
    "* Now create a list of experiment parameters and save metrics"
   ]
  },
  {
   "cell_type": "code",
   "execution_count": 9,
   "metadata": {},
   "outputs": [],
   "source": [
    "def create_exp_list(base_dict, varying_params):\n",
    "    \"\"\"  Creates list of experiment dictionaries with varying hyperparameters\n",
    "    \n",
    "    \"\"\"\n",
    "    \n",
    "    all_exps = []\n",
    "    keys, values = zip(*varying_params.items())\n",
    "    for i, v in enumerate(itertools.product(*values)):\n",
    "        experiment = dict(zip(keys, v))\n",
    "        \n",
    "        # Create a full experiment dictionary\n",
    "        base_dict.update(experiment)\n",
    "        all_exps.append(base_dict.copy())\n",
    "    return all_exps"
   ]
  },
  {
   "cell_type": "code",
   "execution_count": 10,
   "metadata": {},
   "outputs": [],
   "source": [
    "# Create a list of valid experiment configurations\n",
    "base_poly = {\n",
    "    \"method\": \"kernel_ridge\",\n",
    "    \"lam\": 0.1,\n",
    "    \"normalize\": False,\n",
    "    \"dataset\": \"quad_noise\",\n",
    "    \"kernel\": \"polynomial\",\n",
    "    \"gamma\": 1,\n",
    "    \"degree\": 2\n",
    "}\n",
    "\n",
    "poly_exps = {\n",
    "    \"lam\": np.linspace(0.1, 1.0, 10),\n",
    "    \"degree\": np.arange(1, 10)\n",
    "}\n",
    "\n",
    "base_rbf = {\n",
    "    \"method\": \"kernel_ridge\",\n",
    "    \"lam\": 0.1,\n",
    "    \"normalize\": False,\n",
    "    \"dataset\": \"quad_noise\",\n",
    "    \"kernel\": \"rbf\",\n",
    "    \"gamma\": 2,\n",
    "    \"degree\": 1\n",
    "}\n",
    "\n",
    "rbf_exps = {\n",
    "    \"lam\": np.linspace(0.1, 1.0, 10),\n",
    "    \"gamma\": np.logspace(-3, 3, 10)\n",
    "}\n",
    "\n",
    "all_poly = create_exp_list(base_poly, poly_exps)\n",
    "all_rbf = create_exp_list(base_rbf, rbf_exps)\n",
    "all_exps = np.concatenate((all_poly, all_rbf), axis=0)"
   ]
  },
  {
   "cell_type": "markdown",
   "metadata": {},
   "source": [
    "## Sequential Experiments in a loop"
   ]
  },
  {
   "cell_type": "code",
   "execution_count": 11,
   "metadata": {},
   "outputs": [
    {
     "name": "stdout",
     "output_type": "stream",
     "text": [
      "Fitting 190 Models\n",
      "Fitting Completed in 0.1606 seconds\n"
     ]
    }
   ],
   "source": [
    "results = []\n",
    "models = []\n",
    "print(\"Fitting {} Models\".format(len(all_exps)))\n",
    "start = time.time()\n",
    "for exp in all_exps:\n",
    "    # Initialize Regression Function\n",
    "    regression_method = regression(**exp)\n",
    "\n",
    "    # Load the training data\n",
    "    regression_method.get_training_data()\n",
    "\n",
    "    # Fit the regression method\n",
    "    regression_method.fit_regression()\n",
    "\n",
    "    # Get Validation Set Predictions\n",
    "    y_pred = regression_method.get_val_predictions()\n",
    "    models.append(regression_method.model)\n",
    "\n",
    "    # Get Validation Metrics\n",
    "    val_mse = calc_mse(regression_method.y_val, y_pred)\n",
    "    val_rmse = calc_rmse(regression_method.y_val, y_pred)\n",
    "    val_mape = calc_mape(regression_method.y_val, y_pred)\n",
    "    \n",
    "    new_exp = exp.copy()\n",
    "    new_exp['mse'] = val_mse\n",
    "    new_exp['rmse'] = val_rmse\n",
    "    new_exp['mape'] = val_mape\n",
    "    \n",
    "    results.append(new_exp)\n",
    "    \n",
    "stop = time.time()\n",
    "print(\"Fitting Completed in {} seconds\".format(np.around(stop-start, 4)))"
   ]
  },
  {
   "cell_type": "markdown",
   "metadata": {},
   "source": [
    "## Multiprocessing"
   ]
  },
  {
   "cell_type": "code",
   "execution_count": 12,
   "metadata": {},
   "outputs": [],
   "source": [
    "def train_model(params):\n",
    "    # Initialize Regression Function\n",
    "    regression_method = regression(**params)\n",
    "\n",
    "    # Load the training data\n",
    "    regression_method.get_training_data()\n",
    "\n",
    "    # Fit the regression method\n",
    "    regression_method.fit_regression()\n",
    "\n",
    "    # Get Validation Set Predictions\n",
    "    y_pred = regression_method.get_val_predictions()\n",
    "\n",
    "    # Get Validation Metrics\n",
    "    val_mse = calc_mse(regression_method.y_val, y_pred)\n",
    "    val_rmse = calc_rmse(regression_method.y_val, y_pred)\n",
    "    val_mape = calc_mape(regression_method.y_val, y_pred)\n",
    "    \n",
    "    new_exp = params.copy()\n",
    "    new_exp['mse'] = val_mse\n",
    "    new_exp['rmse'] = val_rmse\n",
    "    new_exp['mape'] = val_mape\n",
    "    \n",
    "    return [regression_method.model, new_exp]"
   ]
  },
  {
   "cell_type": "code",
   "execution_count": 13,
   "metadata": {},
   "outputs": [
    {
     "name": "stdout",
     "output_type": "stream",
     "text": [
      "Fitting 190 Models\n",
      "Model Fitting Completed in 0.2047 seconds\n"
     ]
    }
   ],
   "source": [
    "pool = multiprocessing.Pool() # Use all available cores\n",
    "\n",
    "# The .get() function saves the returned result\n",
    "print(\"Fitting {} Models\".format(len(all_exps)))\n",
    "start = time.time()\n",
    "\n",
    "mp_results = pool.map_async(func=train_model, iterable=all_exps).get()\n",
    "pool.close()\n",
    "pool.join()\n",
    "stop = time.time()\n",
    "print(\"Model Fitting Completed in {} seconds\".format(np.around(stop-start, 4)))\n",
    "\n",
    "models = [a[0] for a in mp_results]\n",
    "results = [a[1] for a in mp_results]"
   ]
  },
  {
   "cell_type": "code",
   "execution_count": 14,
   "metadata": {},
   "outputs": [
    {
     "data": {
      "image/png": "[encoded data removed]",
      "text/plain": [
       "<Figure size 432x288 with 1 Axes>"
      ]
     },
     "metadata": {
      "needs_background": "light"
     },
     "output_type": "display_data"
    }
   ],
   "source": [
    "# This only makes sense if the models have the same string labels for hyperparameters\n",
    "result_df = pd.DataFrame(results)\n",
    "poly_df = result_df.loc[result_df['kernel'] == 'polynomial' ]\n",
    "rbf_df = result_df.loc[result_df['kernel'] == 'rbf']\n",
    "_ = poly_df.plot.scatter(x='degree', y='rmse')"
   ]
  },
  {
   "cell_type": "code",
   "execution_count": 15,
   "metadata": {},
   "outputs": [
    {
     "data": {
      "image/png": "[encoded data removed]",
      "text/plain": [
       "<Figure size 504x360 with 1 Axes>"
      ]
     },
     "metadata": {
      "needs_background": "light"
     },
     "output_type": "display_data"
    }
   ],
   "source": [
    "fig, ax = plt.subplots(1, 1, figsize=(7, 5))\n",
    "ax.scatter(rbf_df['gamma'], rbf_df['rmse'])\n",
    "ax.set_xscale('log')\n",
    "ax.set_yscale('log')\n",
    "ax.set_xlim([0.0001, 2000])\n",
    "ax.set_xlabel(\"gamma\")\n",
    "ax.set_ylabel(\"rmse\")\n",
    "plt.show()"
   ]
  },
  {
   "cell_type": "code",
   "execution_count": 16,
   "metadata": {},
   "outputs": [
    {
     "data": {
      "image/png": "[encoded data removed]",
      "text/plain": [
       "<Figure size 1080x504 with 1 Axes>"
      ]
     },
     "metadata": {
      "needs_background": "light"
     },
     "output_type": "display_data"
    }
   ],
   "source": [
    "# Find minimum rmse result on validation set\n",
    "best_exp = result_df.iloc[result_df['mse'].idxmin()]\n",
    "\n",
    "best_model = models[result_df['mse'].idxmin()]\n",
    "temp_model = regression(**best_exp)\n",
    "\n",
    "# Load the training data\n",
    "temp_model.get_training_data()\n",
    "plot_model_predictions(best_model, temp_model.x_train, temp_model.y_train)"
   ]
  },
  {
   "cell_type": "code",
   "execution_count": 17,
   "metadata": {},
   "outputs": [
    {
     "name": "stdout",
     "output_type": "stream",
     "text": [
      "dataset        quad_noise\n",
      "degree                  6\n",
      "gamma                   1\n",
      "kernel         polynomial\n",
      "lam                     1\n",
      "mape               6.2298\n",
      "method       kernel_ridge\n",
      "mse            0.00275938\n",
      "normalize           False\n",
      "rmse            0.0525298\n",
      "Name: 86, dtype: object\n"
     ]
    }
   ],
   "source": [
    "print(best_exp)"
   ]
  },
  {
   "cell_type": "markdown",
   "metadata": {},
   "source": [
    "### Report Test Set Results"
   ]
  },
  {
   "cell_type": "code",
   "execution_count": 18,
   "metadata": {},
   "outputs": [
    {
     "name": "stdout",
     "output_type": "stream",
     "text": [
      "RMSE: 0.10839692390365888\n"
     ]
    }
   ],
   "source": [
    "temp_model = regression(**best_exp)\n",
    "temp_model.get_training_data()\n",
    "test_pred = best_model.predict(np.expand_dims(temp_model.x_test, axis=1))\n",
    "print(\"RMSE: {}\".format(calc_rmse(test_pred, temp_model.y_test)))"
   ]
  }
 ],
 "metadata": {
  "kernelspec": {
   "display_name": "Python 3",
   "language": "python",
   "name": "python3"
  },
  "language_info": {
   "codemirror_mode": {
    "name": "ipython",
    "version": 3
   },
   "file_extension": ".py",
   "mimetype": "text/x-python",
   "name": "python",
   "nbconvert_exporter": "python",
   "pygments_lexer": "ipython3",
   "version": "3.7.1"
  }
 },
 "nbformat": 4,
 "nbformat_minor": 2
}
