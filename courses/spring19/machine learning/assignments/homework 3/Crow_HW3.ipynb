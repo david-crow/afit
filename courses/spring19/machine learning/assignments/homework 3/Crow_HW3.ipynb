{
 "cells": [
  {
   "cell_type": "markdown",
   "metadata": {},
   "source": [
    "# CSCE 623 Homework Assignment 3\n",
    "## Student Name: David Crow\n",
    "## Date: 26 April 2019"
   ]
  },
  {
   "cell_type": "code",
   "execution_count": 1,
   "metadata": {},
   "outputs": [],
   "source": [
    "\"\"\"\n",
    "HW3\n",
    "\"\"\"\n",
    "\n",
    "import numpy as np\n",
    "import matplotlib.pyplot as plt\n",
    "\n",
    "#make plots inline using jupyter magic\n",
    "%matplotlib inline\n",
    "\n",
    "import pandas as pd\n",
    "from pandas.plotting import scatter_matrix\n",
    "from sklearn import datasets, linear_model\n",
    "\n",
    "from IPython.display import Markdown as md  #enable markdown within code cell\n",
    "from IPython.display import display, Math, Latex\n",
    "\n",
    "#------ADDITIONAL STUDENT IMPORTS----------------\n",
    "#put student imports below this line\n",
    "import math\n",
    "from scipy import linalg\n",
    "from sklearn import utils"
   ]
  },
  {
   "cell_type": "markdown",
   "metadata": {},
   "source": [
    "## STEP 0 (helper functions):\n",
    "Instructor provided code for data generation & polynomial feature generation"
   ]
  },
  {
   "cell_type": "code",
   "execution_count": 2,
   "metadata": {
    "scrolled": false
   },
   "outputs": [
    {
     "name": "stdout",
     "output_type": "stream",
     "text": [
      "\n",
      " CHECKING MAKEDATA (Quantity = 5)\n",
      "\n",
      "\n",
      "<class 'pandas.core.frame.DataFrame'>\n",
      "RangeIndex: 5 entries, 0 to 4\n",
      "Data columns (total 2 columns):\n",
      "x    5 non-null float64\n",
      "y    5 non-null float64\n",
      "dtypes: float64(2)\n",
      "memory usage: 160.0 bytes\n",
      "\n",
      "\n",
      "          x          y\n",
      "0 -0.331912  -1.658178\n",
      "1  0.881298  -2.326590\n",
      "2 -1.999543 -12.359352\n",
      "3 -0.790670  -0.905642\n",
      "4 -1.412976  -6.422995\n",
      "\n",
      " CHECKING POLY DESIGN MATRIX\n",
      "[[ 1.         -0.33191198  0.11016556 -0.03656527]\n",
      " [ 1.          0.88129797  0.77668612  0.6844919 ]\n",
      " [ 1.         -1.9995425   3.99817021 -7.99451126]\n",
      " [ 1.         -0.79066971  0.62515859 -0.49429396]\n",
      " [ 1.         -1.41297644  1.99650241 -2.82101086]]\n"
     ]
    },
    {
     "data": {
      "image/png": "[encoded data removed]",
      "text/plain": [
       "<Figure size 432x288 with 1 Axes>"
      ]
     },
     "metadata": {
      "needs_background": "light"
     },
     "output_type": "display_data"
    }
   ],
   "source": [
    "#STEP 0 -  instructor provided\n",
    "\n",
    "def makeData(myseed=1, quantity=100):\n",
    "    np.random.seed(myseed)\n",
    "    x = np.random.uniform(low=-2.,high=2.,size=quantity)  \n",
    "    y = x - 2 * (x ** 2) + np.random.normal(size=quantity)\n",
    "    df = pd.DataFrame({'x': x, 'y': y})\n",
    "    return(df) \n",
    "\n",
    "\n",
    "def polyDesignMatrix(x, p):\n",
    "    '''returns a polynomial design (numpy) matrix from a single feature column vector x.\n",
    "    The return matrix contains columns of x**0, x**1, … x**p \n",
    "    where p is the desired highest order of the polynomial.'''\n",
    "    x = np.array(x)  \n",
    "    X = np.transpose(np.vstack((x**k for k in range(p+1))))\n",
    "    return(X)\n",
    "\n",
    "\n",
    "#test the function\n",
    "print(\"\\n CHECKING MAKEDATA (Quantity = 5)\")\n",
    "checkdata = makeData(quantity = 5)\n",
    "print(\"\\n\")\n",
    "checkdata.info()\n",
    "checkdata.head()\n",
    "print(\"\\n\")\n",
    "print(checkdata)\n",
    "checkdata.plot.scatter(x='x', y='y')\n",
    "print(\"\\n CHECKING POLY DESIGN MATRIX\")\n",
    "checkpoly = polyDesignMatrix(checkdata['x'],3)\n",
    "print(checkpoly)"
   ]
  },
  {
   "cell_type": "markdown",
   "metadata": {},
   "source": [
    "## STEP 1 (data generation and description):"
   ]
  },
  {
   "cell_type": "code",
   "execution_count": 3,
   "metadata": {
    "scrolled": false
   },
   "outputs": [
    {
     "data": {
      "text/html": [
       "<div>\n",
       "<style scoped>\n",
       "    .dataframe tbody tr th:only-of-type {\n",
       "        vertical-align: middle;\n",
       "    }\n",
       "\n",
       "    .dataframe tbody tr th {\n",
       "        vertical-align: top;\n",
       "    }\n",
       "\n",
       "    .dataframe thead th {\n",
       "        text-align: right;\n",
       "    }\n",
       "</style>\n",
       "<table border=\"1\" class=\"dataframe\">\n",
       "  <thead>\n",
       "    <tr style=\"text-align: right;\">\n",
       "      <th></th>\n",
       "      <th>x</th>\n",
       "      <th>y</th>\n",
       "    </tr>\n",
       "  </thead>\n",
       "  <tbody>\n",
       "    <tr>\n",
       "      <th>0</th>\n",
       "      <td>-0.331912</td>\n",
       "      <td>-0.236608</td>\n",
       "    </tr>\n",
       "    <tr>\n",
       "      <th>1</th>\n",
       "      <td>0.881298</td>\n",
       "      <td>-2.694275</td>\n",
       "    </tr>\n",
       "    <tr>\n",
       "      <th>2</th>\n",
       "      <td>-1.999543</td>\n",
       "      <td>-10.302087</td>\n",
       "    </tr>\n",
       "    <tr>\n",
       "      <th>3</th>\n",
       "      <td>-0.790670</td>\n",
       "      <td>-1.213012</td>\n",
       "    </tr>\n",
       "    <tr>\n",
       "      <th>4</th>\n",
       "      <td>-1.412976</td>\n",
       "      <td>-5.175887</td>\n",
       "    </tr>\n",
       "    <tr>\n",
       "      <th>...</th>\n",
       "      <td>...</td>\n",
       "      <td>...</td>\n",
       "    </tr>\n",
       "    <tr>\n",
       "      <th>95</th>\n",
       "      <td>-1.051892</td>\n",
       "      <td>-5.161207</td>\n",
       "    </tr>\n",
       "    <tr>\n",
       "      <th>96</th>\n",
       "      <td>1.613518</td>\n",
       "      <td>-4.240280</td>\n",
       "    </tr>\n",
       "    <tr>\n",
       "      <th>97</th>\n",
       "      <td>0.294718</td>\n",
       "      <td>1.022488</td>\n",
       "    </tr>\n",
       "    <tr>\n",
       "      <th>98</th>\n",
       "      <td>-1.988519</td>\n",
       "      <td>-7.368606</td>\n",
       "    </tr>\n",
       "    <tr>\n",
       "      <th>99</th>\n",
       "      <td>0.468580</td>\n",
       "      <td>-0.219189</td>\n",
       "    </tr>\n",
       "  </tbody>\n",
       "</table>\n",
       "<p>100 rows × 2 columns</p>\n",
       "</div>"
      ],
      "text/plain": [
       "           x          y\n",
       "0  -0.331912  -0.236608\n",
       "1   0.881298  -2.694275\n",
       "2  -1.999543 -10.302087\n",
       "3  -0.790670  -1.213012\n",
       "4  -1.412976  -5.175887\n",
       "..       ...        ...\n",
       "95 -1.051892  -5.161207\n",
       "96  1.613518  -4.240280\n",
       "97  0.294718   1.022488\n",
       "98 -1.988519  -7.368606\n",
       "99  0.468580  -0.219189\n",
       "\n",
       "[100 rows x 2 columns]"
      ]
     },
     "metadata": {},
     "output_type": "display_data"
    },
    {
     "name": "stdout",
     "output_type": "stream",
     "text": [
      "<class 'pandas.core.frame.DataFrame'>\n",
      "RangeIndex: 100 entries, 0 to 99\n",
      "Data columns (total 2 columns):\n",
      "x    100 non-null float64\n",
      "y    100 non-null float64\n",
      "dtypes: float64(2)\n",
      "memory usage: 1.6 KB\n",
      "\n",
      "\n",
      "n: 100 \n",
      "p: 1\n"
     ]
    }
   ],
   "source": [
    "df1=makeData()\n",
    "pd.set_option(\"display.max_rows\", 10)\n",
    "\n",
    "#---STUDENTS: add code to display the answers to question 1 in this cell and/or a markdown cell below\n",
    "\n",
    "display(df1)\n",
    "df1.info()\n",
    "\n",
    "# count the number of rows and columns in the dataframe; subtract 1 for the response column\n",
    "print(\"\\n\\nn:\", len(df1.index), \"\\np:\", len(df1.columns) - 1)"
   ]
  },
  {
   "cell_type": "markdown",
   "metadata": {},
   "source": [
    "#### How many observations?\n",
    "This dataset has 100 observations. We can see this in the table and in the `.info()` call.\n",
    "\n",
    "#### How many features/predictors?\n",
    "This dataset has 1 feature. It's called $x$. We can see this in the table and in the `.info()` call.\n",
    "\n",
    "#### Determine and display the value of $n$ (count the observations)  and the value for $p$ (count the predictors (features)).\n",
    "Okay."
   ]
  },
  {
   "cell_type": "markdown",
   "metadata": {},
   "source": [
    "## STEP 2 (scatterplot and description):"
   ]
  },
  {
   "cell_type": "code",
   "execution_count": 4,
   "metadata": {},
   "outputs": [
    {
     "data": {
      "text/plain": [
       "<matplotlib.collections.PathCollection at 0x1a1709b630>"
      ]
     },
     "execution_count": 4,
     "metadata": {},
     "output_type": "execute_result"
    },
    {
     "data": {
      "image/png": "[encoded data removed]",
      "text/plain": [
       "<Figure size 648x432 with 1 Axes>"
      ]
     },
     "metadata": {
      "needs_background": "light"
     },
     "output_type": "display_data"
    }
   ],
   "source": [
    "#---ADD STUDENT CODE HERE\n",
    "\n",
    "fig, ax = plt.subplots(1, 1, figsize=(9,6))\n",
    "ax.set_title(\"$x$ vs. $y$ for a Generated Dataset\", fontsize=20)\n",
    "ax.set_xlabel(\"$x$\")\n",
    "ax.set_ylabel(\"$y$\")\n",
    "ax.scatter(df1[['x']], df1[['y']], alpha=0.5, edgecolors='m', facecolors='w')"
   ]
  },
  {
   "cell_type": "markdown",
   "metadata": {},
   "source": [
    "#### Describe the shape of the data. What kind of relationship will fit the data?  Linear? Polynomial (and if so, what order of polynomial)? Form an official hypothesis about the best order model.\n",
    "In this dataset, $x$ is uniformly distributed from -2.0 to 2.0, and $y$ is non-uniformly distributed from -12 to 2. Furthermore, $x$ and $y$ are quadratically related.\n",
    "\n",
    "*Hypothesis: To effectively model the `df1` dataset, we should use a polynomial model of order 2. In other words, we should fit a quadratic model to this dataset.*"
   ]
  },
  {
   "cell_type": "markdown",
   "metadata": {},
   "source": [
    "## STEP 3 (Ordinary least squares):"
   ]
  },
  {
   "cell_type": "code",
   "execution_count": 5,
   "metadata": {
    "scrolled": false
   },
   "outputs": [],
   "source": [
    "def getOLScoefficients(X, y):\n",
    "    '''computes and returns the OLS coefficients (betas) from design matrix X\n",
    "    and response variable y.  Returns a ROW VECTOR of betas\n",
    "    First column of design matrix should contain only values equalling 1.'''\n",
    "    \n",
    "    #----STUDENT - INSERT CODE HERE TO COMPUTE BETAS\n",
    "    \n",
    "    return (linalg.inv(X.T @ X) @ X.T @ y).T\n",
    "\n",
    "def getOLSpredictions(X, betas):\n",
    "    '''computes and returns the OLS predictions (yhat) from design matrix X\n",
    "    and ROW VECTOR betas.  yhat will be a column vector.\n",
    "    First column of design matrix should contain only values equalling 1.'''\n",
    "\n",
    "    #----STUDENT - INSERT CODE HERE TO COMPUTE PREDICTIONS\n",
    "    \n",
    "    return np.dot(X, betas.T)"
   ]
  },
  {
   "cell_type": "markdown",
   "metadata": {},
   "source": [
    "## STEP 4 (implement LOOCV as a function):"
   ]
  },
  {
   "cell_type": "markdown",
   "metadata": {},
   "source": [
    "#### A note concerning future steps\n",
    "Because steps 4, 7, and 8 all compute RSS in the same way (after the training and testing sets are determined, that is), I'm going to place the repeated code in this function here. It makes the following steps a bit cleaner."
   ]
  },
  {
   "cell_type": "code",
   "execution_count": 6,
   "metadata": {},
   "outputs": [],
   "source": [
    "def computeRss(train, test, modelOrder):\n",
    "    # create design matrices for the x-values in the training and testing sets\n",
    "    train_design = polyDesignMatrix(train['x'], modelOrder)\n",
    "    test_design = polyDesignMatrix(test['x'], modelOrder)\n",
    "\n",
    "    # estimate the coefficients\n",
    "    betas = getOLScoefficients(train_design, train[['y']])\n",
    "\n",
    "    # predict yhat and compute the residual errors\n",
    "    yhat = getOLSpredictions(test_design, betas)\n",
    "    ydiff = test['y'] - yhat.ravel()\n",
    "\n",
    "    # return the sum of squared residual errors\n",
    "    return np.dot(ydiff.T, ydiff)"
   ]
  },
  {
   "cell_type": "code",
   "execution_count": 7,
   "metadata": {},
   "outputs": [],
   "source": [
    "def LOOCVerr(df, modelOrder):\n",
    "    #---STUDENT - MODIFY THE CODE HERE---\n",
    "    \n",
    "    # we'll add to this\n",
    "    errors = []\n",
    "\n",
    "    # for each row in the dataframe...\n",
    "    for i in df.index:\n",
    "        # training set is everything but the i-th row\n",
    "        train = df.loc[df.index != i]\n",
    "        \n",
    "        # test set is the i-th row itself\n",
    "        test = df.loc[i]\n",
    "        \n",
    "        # append the RSS value\n",
    "        errors.append(computeRss(train, test, modelOrder))\n",
    "    \n",
    "    return np.array(errors)"
   ]
  },
  {
   "cell_type": "markdown",
   "metadata": {},
   "source": [
    "## STEP 5 (compute LOOCV errors on polynomial model orders 1,2,3,4):"
   ]
  },
  {
   "cell_type": "code",
   "execution_count": 8,
   "metadata": {},
   "outputs": [],
   "source": [
    "#---ADD STUDENT CODE HERE\n",
    "\n",
    "models = []\n",
    "for i in range(1, 5):\n",
    "    models.append(LOOCVerr(df1, i))"
   ]
  },
  {
   "cell_type": "markdown",
   "metadata": {},
   "source": [
    "## STEP 6 (plot LOOCV MSE as a function of model order):"
   ]
  },
  {
   "cell_type": "code",
   "execution_count": 9,
   "metadata": {},
   "outputs": [
    {
     "data": {
      "text/plain": [
       "[<matplotlib.lines.Line2D at 0x1a172190b8>]"
      ]
     },
     "execution_count": 9,
     "metadata": {},
     "output_type": "execute_result"
    },
    {
     "data": {
      "image/png": "[encoded data removed]",
      "text/plain": [
       "<Figure size 648x432 with 1 Axes>"
      ]
     },
     "metadata": {
      "needs_background": "light"
     },
     "output_type": "display_data"
    }
   ],
   "source": [
    "#---ADD STUDENT CODE HERE\n",
    "\n",
    "# compute the mean squared error for each model\n",
    "mse = []\n",
    "for i in range(len(models)):\n",
    "    mse.append(np.mean(models[i]))\n",
    "\n",
    "# format these for plotting\n",
    "mse = np.array(mse)\n",
    "orders = np.linspace(1, len(models), len(models), dtype=int)\n",
    "\n",
    "# pretty-fy the plot\n",
    "fig, ax = plt.subplots(1, 1, figsize=(9,6))\n",
    "ax.set_title(\"Degree of Polynomial vs. Mean Squared Error\\nfor a Generated Dataset\", fontsize=20)\n",
    "ax.set_xlabel(\"Degree of Polynomial\")\n",
    "ax.set_ylabel(\"Mean Squared Error\")\n",
    "ax.set_xticks(orders)\n",
    "\n",
    "# add a label for the point with the minimum MSE\n",
    "ax.annotate(\"Minimum MSE\", xy=(orders[np.argmin(mse)], np.min(mse)),\n",
    "    xytext=(orders[np.argmin(mse)], np.min(mse) + 0.25))\n",
    "\n",
    "ax.plot(orders, mse, color='c', marker='o')"
   ]
  },
  {
   "cell_type": "markdown",
   "metadata": {},
   "source": [
    "The LOOCV MSE for this dataset is minimized when we fit a model of order 2. In other words, a quadratic model fits this dataset best (at least where LOOCV is concerned). This aligns with the hypothesis formed in step 2."
   ]
  },
  {
   "cell_type": "markdown",
   "metadata": {},
   "source": [
    "## STEP 7 (implement valset as a function):"
   ]
  },
  {
   "cell_type": "code",
   "execution_count": 10,
   "metadata": {
    "scrolled": false
   },
   "outputs": [],
   "source": [
    "def VALSETerr(df, modelOrder, splitseed):\n",
    "    #---ADD STUDENT CODE HERE\n",
    "    \n",
    "    # training set is a random 50% of the dataset\n",
    "    train = df.sample(frac=0.5, random_state=splitseed)\n",
    "    \n",
    "    # testing set is everything that isn't in the training set\n",
    "    test = pd.concat([df, train]).drop_duplicates(keep=False)\n",
    "    \n",
    "    # return the MSE value\n",
    "    return computeRss(train, test, modelOrder) / len(test)"
   ]
  },
  {
   "cell_type": "markdown",
   "metadata": {},
   "source": [
    "## STEP 8 (implement k-fold cross-validation as a function):"
   ]
  },
  {
   "cell_type": "code",
   "execution_count": 11,
   "metadata": {
    "scrolled": false
   },
   "outputs": [],
   "source": [
    "def KFOLDerr(df, modelOrder, k, splitseed):\n",
    "    errorterms = []\n",
    "    #---ADD STUDENT CODE HERE\n",
    "    \n",
    "    # shuffle the dataframe (using the random seed)\n",
    "    shuffled = utils.shuffle(df, random_state=splitseed)\n",
    "    \n",
    "    # we need k folds\n",
    "    folds = []\n",
    "    for i in range(k):\n",
    "        folds.append([])\n",
    "    \n",
    "    # round-robin over the dataframe to distribute the rows to the folds\n",
    "    for i in range(len(df)):\n",
    "        folds[i % k].append(shuffled.iloc[i])\n",
    "\n",
    "    # convert each fold into a dataframe\n",
    "    for i in range(k):\n",
    "        folds[i] = pd.DataFrame(folds[i])\n",
    "        \n",
    "    for test in folds:\n",
    "        # training set is everything that isn't in the fold\n",
    "        train = pd.concat([df, test]).drop_duplicates(keep=False)\n",
    "        \n",
    "        # append the MSE value\n",
    "        errorterms.append(computeRss(train, test, modelOrder) / len(test))\n",
    "\n",
    "    return errorterms"
   ]
  },
  {
   "cell_type": "markdown",
   "metadata": {},
   "source": [
    "## STEP 9 (compute and collect MSEs from validation methods):"
   ]
  },
  {
   "cell_type": "code",
   "execution_count": 12,
   "metadata": {
    "scrolled": true
   },
   "outputs": [],
   "source": [
    "#---ADD STUDENT CODE HERE\n",
    "\n",
    "all_mses = []\n",
    "\n",
    "# for each model...\n",
    "for i in range(3):\n",
    "    all_mses.append([])\n",
    "    \n",
    "    # for 10 different random seeds...\n",
    "    for j in range(10):\n",
    "        all_mses[i].append([])\n",
    "        \n",
    "        # for four different polynomial orders...\n",
    "        for k in orders:\n",
    "            all_mses[i][j].append([])\n",
    "\n",
    "# for each random seed...\n",
    "for i in range(10):\n",
    "    # for each polynomial order...\n",
    "    for j in range(len(orders)):\n",
    "        # validation set\n",
    "        all_mses[0][i][j].append(VALSETerr(df1, j + 1, i + 1))\n",
    "        \n",
    "        # 5-fold cross-validation\n",
    "        all_mses[1][i][j].append(KFOLDerr(df1, j + 1, 5, i + 1))\n",
    "        \n",
    "        # 10-fold cross-validation\n",
    "        all_mses[2][i][j].append(KFOLDerr(df1, j + 1, 10, i + 1))\n",
    "\n",
    "valset_errors = np.array(all_mses[0])\n",
    "fivefold_errors = np.array(all_mses[1])\n",
    "tenfold_errors = np.array(all_mses[2])"
   ]
  },
  {
   "cell_type": "markdown",
   "metadata": {},
   "source": [
    "## STEP 10 (build \"spaghetti\" plots of cross validation results):"
   ]
  },
  {
   "cell_type": "code",
   "execution_count": 13,
   "metadata": {},
   "outputs": [
    {
     "data": {
      "image/png": "[encoded data removed]",
      "text/plain": [
       "<Figure size 1296x432 with 3 Axes>"
      ]
     },
     "metadata": {
      "needs_background": "light"
     },
     "output_type": "display_data"
    }
   ],
   "source": [
    "#---ADD STUDENT CODE HERE\n",
    "\n",
    "# create the overall figure\n",
    "fig = plt.figure(figsize=(18,6))\n",
    "fig.suptitle('Model Order vs. Mean Squared Error for Three Different Cross-Validation Models', fontsize=20)\n",
    "fig.subplots_adjust(top=0.85)\n",
    "\n",
    "# we need three subplots (one for each model)\n",
    "ax = [\n",
    "    fig.add_subplot(131),\n",
    "    fig.add_subplot(132),\n",
    "    fig.add_subplot(133)\n",
    "]\n",
    "\n",
    "# useful for annotations\n",
    "labels = {0: \"Validation Set\", 1: \"5-Fold Cross-Validation\", 2: \"10-Fold Cross-Validation\"}\n",
    "maximum = 0\n",
    "lx = 3\n",
    "ly = 5\n",
    "\n",
    "# for each random seed...\n",
    "for i in range(10):\n",
    "    # we need to average the MSE values for each fold for a given seed and polynomial order\n",
    "    avg_fivefold_errors = []\n",
    "    avg_tenfold_errors = []\n",
    "    \n",
    "    # for each polynomial order...\n",
    "    for j in range(len(orders)):\n",
    "        # compute the average of the five/ten MSE values\n",
    "        avg_fivefold_errors.append(np.mean(fivefold_errors[i][j]))\n",
    "        avg_tenfold_errors.append(np.mean(tenfold_errors[i][j]))\n",
    "    \n",
    "    # plot the various MSE curves\n",
    "    ax[0].plot(orders, valset_errors[i], marker='o')\n",
    "    ax[1].plot(orders, avg_fivefold_errors, marker='o')\n",
    "    ax[2].plot(orders, avg_tenfold_errors, marker='o')\n",
    "    \n",
    "    # update the maximum y-value for all three plots (this is just for plotting consistency)\n",
    "    maximum = max(maximum, np.max(valset_errors[i]), np.max(avg_fivefold_errors), np.max(avg_tenfold_errors))\n",
    "    \n",
    "    # point an arrow at the minimum MSE point for each validation set line\n",
    "    ax[0].arrow(\n",
    "        lx - 0.05,\n",
    "        ly,\n",
    "        orders[np.argmin(valset_errors[i])] - (lx - 0.05),\n",
    "        np.min(valset_errors[i]) - ly,\n",
    "        length_includes_head=True,\n",
    "        alpha=0.5\n",
    "    )\n",
    "    \n",
    "    # point an arrow at the minimum MSE point for each 5-fold cross-validation line\n",
    "    ax[1].arrow(\n",
    "        lx - 0.05,\n",
    "        ly,\n",
    "        orders[np.argmin(avg_fivefold_errors)] - (lx - 0.05),\n",
    "        np.min(avg_fivefold_errors) - ly,\n",
    "        length_includes_head=True,\n",
    "        alpha=0.5\n",
    "    )\n",
    "    \n",
    "    # point an arrow at the minimum MSE point for each 10-fold cross-validation line\n",
    "    ax[2].arrow(\n",
    "        lx - 0.05,\n",
    "        ly,\n",
    "        orders[np.argmin(avg_tenfold_errors)] - (lx - 0.05),\n",
    "        np.min(avg_tenfold_errors) - ly,\n",
    "        length_includes_head=True,\n",
    "        alpha=0.5\n",
    "    )\n",
    "\n",
    "# for each dataset...\n",
    "for i in range(len(ax)):\n",
    "    # pretty-fy the i-th subplot\n",
    "    ax[i].set_title(labels[i])\n",
    "    ax[i].set_xlabel(\"Model Order\")\n",
    "    ax[i].set_ylabel(\"Mean Squared Error\")\n",
    "    ax[i].set_xticks(orders)\n",
    "    ax[i].set_ylim([0, math.ceil(maximum)])\n",
    "    ax[i].annotate(\"Minimum MSE\", xy=(lx, ly), xytext=(lx, ly))"
   ]
  },
  {
   "cell_type": "markdown",
   "metadata": {},
   "source": [
    "## STEP 11 (human estimate of most reliable validation technique):"
   ]
  },
  {
   "cell_type": "markdown",
   "metadata": {},
   "source": [
    "The range of error values at each model order is relatively large for the validation set technique when compared to the other two techniques. Additionally, the best model order (that is, the one that minimizes MSE) isn't consistent for validation set; for a constant dataset, there is always going to be one *best* model order, and validation set seems to have trouble identifying this best order. For these reasons, validation set is clearly not the most reliable validation technique. \n",
    "\n",
    "The MSE values for 5-fold and 10-fold CV are extremely similar, but it's fairly clear that the *range* of values at each model order is tighter for 10-fold CV than for 5-fold CV. In other words, the 10-fold CV model has less variability in the estimated error rates (for a given polynomial order) than does the 5-fold CV model.\n",
    "\n",
    "For this reason, 10-fold CV is the most reliable validation technique for this dataset. "
   ]
  },
  {
   "cell_type": "markdown",
   "metadata": {},
   "source": [
    "## STEP 12 (algorithmic determination of best-order model from most reliable val method):"
   ]
  },
  {
   "cell_type": "code",
   "execution_count": 14,
   "metadata": {},
   "outputs": [
    {
     "data": {
      "text/html": [
       "<div>\n",
       "<style scoped>\n",
       "    .dataframe tbody tr th:only-of-type {\n",
       "        vertical-align: middle;\n",
       "    }\n",
       "\n",
       "    .dataframe tbody tr th {\n",
       "        vertical-align: top;\n",
       "    }\n",
       "\n",
       "    .dataframe thead th {\n",
       "        text-align: right;\n",
       "    }\n",
       "</style>\n",
       "<table border=\"1\" class=\"dataframe\">\n",
       "  <thead>\n",
       "    <tr style=\"text-align: right;\">\n",
       "      <th></th>\n",
       "      <th>Average MSE</th>\n",
       "    </tr>\n",
       "  </thead>\n",
       "  <tbody>\n",
       "    <tr>\n",
       "      <th>Polynomial Order 1</th>\n",
       "      <td>6.531428</td>\n",
       "    </tr>\n",
       "    <tr>\n",
       "      <th>Polynomial Order 2</th>\n",
       "      <td>0.846144</td>\n",
       "    </tr>\n",
       "    <tr>\n",
       "      <th>Polynomial Order 3</th>\n",
       "      <td>0.873755</td>\n",
       "    </tr>\n",
       "    <tr>\n",
       "      <th>Polynomial Order 4</th>\n",
       "      <td>0.899625</td>\n",
       "    </tr>\n",
       "  </tbody>\n",
       "</table>\n",
       "</div>"
      ],
      "text/plain": [
       "                    Average MSE\n",
       "Polynomial Order 1     6.531428\n",
       "Polynomial Order 2     0.846144\n",
       "Polynomial Order 3     0.873755\n",
       "Polynomial Order 4     0.899625"
      ]
     },
     "execution_count": 14,
     "metadata": {},
     "output_type": "execute_result"
    }
   ],
   "source": [
    "#---ADD STUDENT CODE HERE\n",
    "\n",
    "errors = [0, 0, 0, 0]\n",
    "\n",
    "# for each random seed...\n",
    "for i in range(10):\n",
    "    # for each of the four polynomial orders...\n",
    "    for j in range(len(orders)):\n",
    "        # sum the average errors for all polynomial order/seed combinations\n",
    "        errors[j] += np.mean(tenfold_errors[i][j])\n",
    "\n",
    "# for labeling purposes\n",
    "indices = []\n",
    "for i in orders:\n",
    "    indices.append(\"Polynomial Order \" + str(i))\n",
    "     \n",
    "# build and annotate a dataframe\n",
    "errors = pd.DataFrame(\n",
    "    np.array(errors) / 10,\n",
    "    columns=[\"Average MSE\"],\n",
    "    index=indices)\n",
    "\n",
    "# display the dataframe\n",
    "errors"
   ]
  },
  {
   "cell_type": "markdown",
   "metadata": {},
   "source": [
    "Clearly, the 10-fold cross-validation model with polynomial order 1 gives a much higher average error than does the same model with orders of 2, 3 or 4. We can see from the table above that polynomial order 2 is slightly better than both order 3 and order 4. In other words, fitting a quadratic model to this dataset yields the lowest average error rate (according to 10-fold cross-validation).\n",
    "\n",
    "This aligns with the hypothesis formed in step 2."
   ]
  }
 ],
 "metadata": {
  "kernelspec": {
   "display_name": "Python 3",
   "language": "python",
   "name": "python3"
  },
  "language_info": {
   "codemirror_mode": {
    "name": "ipython",
    "version": 3
   },
   "file_extension": ".py",
   "mimetype": "text/x-python",
   "name": "python",
   "nbconvert_exporter": "python",
   "pygments_lexer": "ipython3",
   "version": "3.7.1"
  }
 },
 "nbformat": 4,
 "nbformat_minor": 2
}
